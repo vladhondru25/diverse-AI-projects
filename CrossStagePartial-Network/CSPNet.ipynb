{
  "nbformat": 4,
  "nbformat_minor": 0,
  "metadata": {
    "language_info": {
      "codemirror_mode": {
        "name": "ipython",
        "version": 3
      },
      "file_extension": ".py",
      "mimetype": "text/x-python",
      "name": "python",
      "nbconvert_exporter": "python",
      "pygments_lexer": "ipython3",
      "version": "3.7.9-final"
    },
    "orig_nbformat": 2,
    "kernelspec": {
      "name": "python3",
      "display_name": "Python 3.7.9 64-bit ('main_package': conda)",
      "metadata": {
        "interpreter": {
          "hash": "a5cdc093ed020a4324a6a22aab0824dac5220560d8490d5b3512452966cd8371"
        }
      }
    },
    "colab": {
      "name": "CSPNet.ipynb",
      "provenance": []
    },
    "accelerator": "GPU",
    "widgets": {
      "application/vnd.jupyter.widget-state+json": {
        "e2e711b49099447289e023b90c86519b": {
          "model_module": "@jupyter-widgets/controls",
          "model_name": "HBoxModel",
          "state": {
            "_view_name": "HBoxView",
            "_dom_classes": [],
            "_model_name": "HBoxModel",
            "_view_module": "@jupyter-widgets/controls",
            "_model_module_version": "1.5.0",
            "_view_count": null,
            "_view_module_version": "1.5.0",
            "box_style": "",
            "layout": "IPY_MODEL_6248ebc331424614a90dc667e3a7da30",
            "_model_module": "@jupyter-widgets/controls",
            "children": [
              "IPY_MODEL_4bb732f56eb1438cab9476673c6b7d14",
              "IPY_MODEL_9e2f9bd0edc644dfb80fc62305becf07"
            ]
          }
        },
        "6248ebc331424614a90dc667e3a7da30": {
          "model_module": "@jupyter-widgets/base",
          "model_name": "LayoutModel",
          "state": {
            "_view_name": "LayoutView",
            "grid_template_rows": null,
            "right": null,
            "justify_content": null,
            "_view_module": "@jupyter-widgets/base",
            "overflow": null,
            "_model_module_version": "1.2.0",
            "_view_count": null,
            "flex_flow": null,
            "width": null,
            "min_width": null,
            "border": null,
            "align_items": null,
            "bottom": null,
            "_model_module": "@jupyter-widgets/base",
            "top": null,
            "grid_column": null,
            "overflow_y": null,
            "overflow_x": null,
            "grid_auto_flow": null,
            "grid_area": null,
            "grid_template_columns": null,
            "flex": null,
            "_model_name": "LayoutModel",
            "justify_items": null,
            "grid_row": null,
            "max_height": null,
            "align_content": null,
            "visibility": null,
            "align_self": null,
            "height": null,
            "min_height": null,
            "padding": null,
            "grid_auto_rows": null,
            "grid_gap": null,
            "max_width": null,
            "order": null,
            "_view_module_version": "1.2.0",
            "grid_template_areas": null,
            "object_position": null,
            "object_fit": null,
            "grid_auto_columns": null,
            "margin": null,
            "display": null,
            "left": null
          }
        },
        "4bb732f56eb1438cab9476673c6b7d14": {
          "model_module": "@jupyter-widgets/controls",
          "model_name": "FloatProgressModel",
          "state": {
            "_view_name": "ProgressView",
            "style": "IPY_MODEL_6398af6899f84059b9e8a9297494aa22",
            "_dom_classes": [],
            "description": "",
            "_model_name": "FloatProgressModel",
            "bar_style": "info",
            "max": 1,
            "_view_module": "@jupyter-widgets/controls",
            "_model_module_version": "1.5.0",
            "value": 1,
            "_view_count": null,
            "_view_module_version": "1.5.0",
            "orientation": "horizontal",
            "min": 0,
            "description_tooltip": null,
            "_model_module": "@jupyter-widgets/controls",
            "layout": "IPY_MODEL_a70e36d3229a41a297623e9c4cc23536"
          }
        },
        "9e2f9bd0edc644dfb80fc62305becf07": {
          "model_module": "@jupyter-widgets/controls",
          "model_name": "HTMLModel",
          "state": {
            "_view_name": "HTMLView",
            "style": "IPY_MODEL_0f71d7ca58534226afca00d190ef6b17",
            "_dom_classes": [],
            "description": "",
            "_model_name": "HTMLModel",
            "placeholder": "​",
            "_view_module": "@jupyter-widgets/controls",
            "_model_module_version": "1.5.0",
            "value": " 170500096/? [00:20&lt;00:00, 54308943.03it/s]",
            "_view_count": null,
            "_view_module_version": "1.5.0",
            "description_tooltip": null,
            "_model_module": "@jupyter-widgets/controls",
            "layout": "IPY_MODEL_b7287edb599a4c61ad387571ee34ac1a"
          }
        },
        "6398af6899f84059b9e8a9297494aa22": {
          "model_module": "@jupyter-widgets/controls",
          "model_name": "ProgressStyleModel",
          "state": {
            "_view_name": "StyleView",
            "_model_name": "ProgressStyleModel",
            "description_width": "initial",
            "_view_module": "@jupyter-widgets/base",
            "_model_module_version": "1.5.0",
            "_view_count": null,
            "_view_module_version": "1.2.0",
            "bar_color": null,
            "_model_module": "@jupyter-widgets/controls"
          }
        },
        "a70e36d3229a41a297623e9c4cc23536": {
          "model_module": "@jupyter-widgets/base",
          "model_name": "LayoutModel",
          "state": {
            "_view_name": "LayoutView",
            "grid_template_rows": null,
            "right": null,
            "justify_content": null,
            "_view_module": "@jupyter-widgets/base",
            "overflow": null,
            "_model_module_version": "1.2.0",
            "_view_count": null,
            "flex_flow": null,
            "width": null,
            "min_width": null,
            "border": null,
            "align_items": null,
            "bottom": null,
            "_model_module": "@jupyter-widgets/base",
            "top": null,
            "grid_column": null,
            "overflow_y": null,
            "overflow_x": null,
            "grid_auto_flow": null,
            "grid_area": null,
            "grid_template_columns": null,
            "flex": null,
            "_model_name": "LayoutModel",
            "justify_items": null,
            "grid_row": null,
            "max_height": null,
            "align_content": null,
            "visibility": null,
            "align_self": null,
            "height": null,
            "min_height": null,
            "padding": null,
            "grid_auto_rows": null,
            "grid_gap": null,
            "max_width": null,
            "order": null,
            "_view_module_version": "1.2.0",
            "grid_template_areas": null,
            "object_position": null,
            "object_fit": null,
            "grid_auto_columns": null,
            "margin": null,
            "display": null,
            "left": null
          }
        },
        "0f71d7ca58534226afca00d190ef6b17": {
          "model_module": "@jupyter-widgets/controls",
          "model_name": "DescriptionStyleModel",
          "state": {
            "_view_name": "StyleView",
            "_model_name": "DescriptionStyleModel",
            "description_width": "",
            "_view_module": "@jupyter-widgets/base",
            "_model_module_version": "1.5.0",
            "_view_count": null,
            "_view_module_version": "1.2.0",
            "_model_module": "@jupyter-widgets/controls"
          }
        },
        "b7287edb599a4c61ad387571ee34ac1a": {
          "model_module": "@jupyter-widgets/base",
          "model_name": "LayoutModel",
          "state": {
            "_view_name": "LayoutView",
            "grid_template_rows": null,
            "right": null,
            "justify_content": null,
            "_view_module": "@jupyter-widgets/base",
            "overflow": null,
            "_model_module_version": "1.2.0",
            "_view_count": null,
            "flex_flow": null,
            "width": null,
            "min_width": null,
            "border": null,
            "align_items": null,
            "bottom": null,
            "_model_module": "@jupyter-widgets/base",
            "top": null,
            "grid_column": null,
            "overflow_y": null,
            "overflow_x": null,
            "grid_auto_flow": null,
            "grid_area": null,
            "grid_template_columns": null,
            "flex": null,
            "_model_name": "LayoutModel",
            "justify_items": null,
            "grid_row": null,
            "max_height": null,
            "align_content": null,
            "visibility": null,
            "align_self": null,
            "height": null,
            "min_height": null,
            "padding": null,
            "grid_auto_rows": null,
            "grid_gap": null,
            "max_width": null,
            "order": null,
            "_view_module_version": "1.2.0",
            "grid_template_areas": null,
            "object_position": null,
            "object_fit": null,
            "grid_auto_columns": null,
            "margin": null,
            "display": null,
            "left": null
          }
        }
      }
    }
  },
  "cells": [
    {
      "cell_type": "code",
      "metadata": {
        "id": "l3BZwobmHaU-"
      },
      "source": [
        "import math\n",
        "import statistics\n",
        "import numpy as np\n",
        "import matplotlib.pyplot as plt\n",
        "\n",
        "import torch\n",
        "import torch.nn as nn\n",
        "import torch.nn.functional as F\n",
        "from torchvision import datasets, transforms as T\n",
        "from torch.utils.data import Dataset, Subset, DataLoader, sampler\n",
        "\n",
        "from common import CSPBlock, Conv2dBlock"
      ],
      "execution_count": 1,
      "outputs": []
    },
    {
      "cell_type": "code",
      "metadata": {
        "id": "irza4cAKHaVD"
      },
      "source": [
        "# Define the hyperparameters\n",
        "LEARNING_RATE = 1e-3\n",
        "BATCH_SIZE = 64\n",
        "EPOCHS = 10\n",
        "VAL_SIZE = 10 # In percentage\n",
        "\n",
        "R_MEAN = 0.4914\n",
        "G_MEAN = 0.4822\n",
        "B_MEAN = 0.4465\n",
        "R_STD = 0.2023\n",
        "G_STD = 0.1994\n",
        "B_STD = 0.2010"
      ],
      "execution_count": 2,
      "outputs": []
    },
    {
      "cell_type": "code",
      "metadata": {
        "colab": {
          "base_uri": "https://localhost:8080/"
        },
        "id": "QZnz3R7HHaVE",
        "outputId": "a49c16d3-5675-401c-8054-1db11b86b29a"
      },
      "source": [
        "use_cuda = torch.cuda.is_available()\n",
        "device = torch.device('cuda' if use_cuda else 'cpu')\n",
        "print('Using GPU: {}'.format(use_cuda))"
      ],
      "execution_count": 3,
      "outputs": [
        {
          "output_type": "stream",
          "text": [
            "Using GPU: True\n"
          ],
          "name": "stdout"
        }
      ]
    },
    {
      "cell_type": "code",
      "metadata": {
        "id": "hymD_0eVHaVE"
      },
      "source": [
        "# Set seed during training for reproducibility\n",
        "np.random.seed(0)\n",
        "torch.manual_seed(0)\n",
        "if use_cuda:\n",
        "    torch.cuda.manual_seed(0)"
      ],
      "execution_count": 4,
      "outputs": []
    },
    {
      "cell_type": "code",
      "metadata": {
        "id": "nmljbVS6HaVF"
      },
      "source": [
        "# Normalise the dataset\n",
        "transform = T.Compose([\n",
        "    T.ToTensor(),\n",
        "    T.Normalize((R_MEAN, G_MEAN, B_MEAN), (R_STD, G_STD, B_STD))\n",
        "])\n",
        "\n",
        "# Augement and normalise the dataset\n",
        "transform_aug = T.Compose([\n",
        "    T.RandomCrop(32, padding=4),\n",
        "    T.RandomHorizontalFlip(p=0.5),\n",
        "    T.ToTensor(),\n",
        "    T.Normalize((R_MEAN, G_MEAN, B_MEAN), (R_STD, G_STD, B_STD))\n",
        "])"
      ],
      "execution_count": 5,
      "outputs": []
    },
    {
      "cell_type": "code",
      "metadata": {
        "colab": {
          "base_uri": "https://localhost:8080/",
          "height": 100,
          "referenced_widgets": [
            "e2e711b49099447289e023b90c86519b",
            "6248ebc331424614a90dc667e3a7da30",
            "4bb732f56eb1438cab9476673c6b7d14",
            "9e2f9bd0edc644dfb80fc62305becf07",
            "6398af6899f84059b9e8a9297494aa22",
            "a70e36d3229a41a297623e9c4cc23536",
            "0f71d7ca58534226afca00d190ef6b17",
            "b7287edb599a4c61ad387571ee34ac1a"
          ]
        },
        "id": "E2Dw0gl6HaVF",
        "outputId": "0fe95b35-5af4-4b7a-dc5c-3de08aebcb43"
      },
      "source": [
        "# Get datasets\n",
        "train_dataset = datasets.CIFAR10(root='data/', train=True,  transform=None, download=True)\n",
        "testing_dataset  = datasets.CIFAR10(root='data/', train=False, transform=transform, download=True)\n",
        "\n",
        "# Split training dataset into training and validation\n",
        "split_point = math.floor( (100-VAL_SIZE) * len(train_dataset) / 100) \n",
        "indices = list(range(len(train_dataset)))\n",
        "\n",
        "class MapDataset(torch.utils.data.Dataset):\n",
        "    \"\"\" Apply data augmentation transform to the training dataset \"\"\"\n",
        "    def __init__(self, dataset, map_fn):\n",
        "        self.dataset = dataset\n",
        "        self.map = map_fn\n",
        "\n",
        "    def __getitem__(self, index):\n",
        "        x = self.map(self.dataset[index][0]) \n",
        "        y = self.dataset[index][1]   \n",
        "        return x, y\n",
        "\n",
        "    def __len__(self):\n",
        "        return len(self.dataset)\n",
        "\n",
        "training_dataset   = MapDataset(Subset(train_dataset, indices[:split_point]), transform_aug)\n",
        "validation_dataset = MapDataset(Subset(train_dataset, indices[split_point:]), transform)"
      ],
      "execution_count": 6,
      "outputs": [
        {
          "output_type": "stream",
          "text": [
            "Downloading https://www.cs.toronto.edu/~kriz/cifar-10-python.tar.gz to data/cifar-10-python.tar.gz\n"
          ],
          "name": "stdout"
        },
        {
          "output_type": "display_data",
          "data": {
            "application/vnd.jupyter.widget-view+json": {
              "model_id": "e2e711b49099447289e023b90c86519b",
              "version_minor": 0,
              "version_major": 2
            },
            "text/plain": [
              "HBox(children=(FloatProgress(value=1.0, bar_style='info', max=1.0), HTML(value='')))"
            ]
          },
          "metadata": {
            "tags": []
          }
        },
        {
          "output_type": "stream",
          "text": [
            "Extracting data/cifar-10-python.tar.gz to data/\n",
            "Files already downloaded and verified\n"
          ],
          "name": "stdout"
        }
      ]
    },
    {
      "cell_type": "code",
      "metadata": {
        "id": "Sq0WBRryRIzB"
      },
      "source": [
        "training_dataloader   = torch.utils.data.DataLoader(training_dataset, batch_size=BATCH_SIZE, \n",
        "                                                    sampler=torch.utils.data.RandomSampler(training_dataset, generator = torch.Generator().manual_seed(0)))\n",
        "validation_dataloader = torch.utils.data.DataLoader(validation_dataset, batch_size=BATCH_SIZE, \n",
        "                                                    sampler=torch.utils.data.RandomSampler(validation_dataset, generator = torch.Generator().manual_seed(0)))\n",
        "\n",
        "testing_dataloader    = torch.utils.data.DataLoader(testing_dataset,  batch_size=BATCH_SIZE, shuffle=False)"
      ],
      "execution_count": 7,
      "outputs": []
    },
    {
      "cell_type": "code",
      "metadata": {
        "id": "A_el_tdsHaVG"
      },
      "source": [
        "class CSPNet(nn.Module):\n",
        "    def __init__(self, no_of_blocks=1):\n",
        "        super(CSPNet,self).__init__()\n",
        "        self.network = nn.Sequential(\n",
        "            Conv2dBlock(in_C=3,  out_C=32, k=3, s=1, p=1, bias=False, activation='leakyRelu'),\n",
        "            Conv2dBlock(in_C=32, out_C=32, k=3, s=2, p=1, bias=False, activation='leakyRelu'),\n",
        "\n",
        "            CSPBlock(in_C=32, no_of_blocks=no_of_blocks, activation='leakyRelu'),\n",
        "            Conv2dBlock(in_C=32, out_C=64, k=3, s=2, p=1, bias=False, activation='leakyRelu'),\n",
        "\n",
        "            CSPBlock(in_C=64, no_of_blocks=no_of_blocks, activation='leakyRelu'),\n",
        "            Conv2dBlock(in_C=64, out_C=128, k=3, s=2, p=1, bias=False, activation='leakyRelu'),\n",
        "\n",
        "            nn.AvgPool2d(kernel_size=4),\n",
        "            \n",
        "            nn.Flatten(),\n",
        "            nn.Linear(in_features=128,  out_features=10)\n",
        "        )\n",
        "\n",
        "    def forward(self, x):\n",
        "        return self.network(x)"
      ],
      "execution_count": 8,
      "outputs": []
    },
    {
      "cell_type": "code",
      "metadata": {
        "id": "y26KUy4kHaVG"
      },
      "source": [
        "def loss_function(pred, y):\n",
        "    return F.cross_entropy(pred, y)"
      ],
      "execution_count": 9,
      "outputs": []
    },
    {
      "cell_type": "code",
      "metadata": {
        "id": "0U3RS67dHaVG"
      },
      "source": [
        "validation_losses = []\n",
        "def validate(model):\n",
        "    losses = []\n",
        "    \n",
        "    model.eval()\n",
        "    \n",
        "    with torch.no_grad():\n",
        "        for x_valid,y_valid in validation_dataloader:\n",
        "            x_valid = x_valid.to(device=device, dtype=torch.float32)\n",
        "            y_valid = y_valid.to(device=device, dtype=torch.long)\n",
        "            \n",
        "            pred = model(x_valid)\n",
        "            \n",
        "            loss = loss_function(pred,y_valid).item()\n",
        "            losses.append(loss)\n",
        "            \n",
        "    validation_losses.append(statistics.mean(losses))"
      ],
      "execution_count": 10,
      "outputs": []
    },
    {
      "cell_type": "code",
      "metadata": {
        "id": "AWcm9H46HaVH"
      },
      "source": [
        "training_losses = []\n",
        "def training(model, optimiser):\n",
        "    for epoch in range(EPOCHS):\n",
        "        losses = []\n",
        "        model.train()\n",
        "        \n",
        "        for x_train, y_train in training_dataloader:\n",
        "            x_train = x_train.to(device=device, dtype=torch.float32)\n",
        "            y_train = y_train.to(device=device, dtype=torch.long)\n",
        "            \n",
        "            pred = model(x_train)\n",
        "            \n",
        "            loss = loss_function(pred,y_train)\n",
        "            losses.append(loss.item())\n",
        "            \n",
        "            optimiser.zero_grad()\n",
        "            loss.backward()\n",
        "            optimiser.step()\n",
        "            \n",
        "        mean_loss = statistics.mean(losses)\n",
        "        training_losses.append(mean_loss)\n",
        "        print(\"Epoch {}/{}, training loss = {:.2f}\".format(epoch+1, EPOCHS, mean_loss))\n",
        "        \n",
        "        validate(model)"
      ],
      "execution_count": 11,
      "outputs": []
    },
    {
      "cell_type": "code",
      "metadata": {
        "colab": {
          "base_uri": "https://localhost:8080/",
          "height": 449
        },
        "id": "ol0_aEG1HaVH",
        "outputId": "4db10f64-84a3-478b-dc23-450fc96b7682"
      },
      "source": [
        "model_CSP = CSPNet()\n",
        "model_CSP = model_CSP.to(device=device)\n",
        "\n",
        "optimizer = torch.optim.Adam(model_CSP.parameters(), lr=LEARNING_RATE)\n",
        "\n",
        "training(model_CSP, optimizer)\n",
        "\n",
        "plt.figure(0)\n",
        "plt.plot(list(range(1,EPOCHS+1)), training_losses, 'b')\n",
        "plt.plot(list(range(1,EPOCHS+1)), validation_losses, 'r')\n",
        "plt.xticks(list(range(1,EPOCHS+1)))\n",
        "plt.xlabel('Epoch')\n",
        "plt.ylabel('Loss')\n",
        "plt.legend(['Train loss','Validation loss'])\n",
        "plt.show()"
      ],
      "execution_count": 12,
      "outputs": [
        {
          "output_type": "stream",
          "text": [
            "Epoch 1/10, training loss = 1.54\n",
            "Epoch 2/10, training loss = 1.19\n",
            "Epoch 3/10, training loss = 1.04\n",
            "Epoch 4/10, training loss = 0.97\n",
            "Epoch 5/10, training loss = 0.91\n",
            "Epoch 6/10, training loss = 0.86\n",
            "Epoch 7/10, training loss = 0.83\n",
            "Epoch 8/10, training loss = 0.79\n",
            "Epoch 9/10, training loss = 0.76\n",
            "Epoch 10/10, training loss = 0.74\n"
          ],
          "name": "stdout"
        },
        {
          "output_type": "display_data",
          "data": {
            "image/png": "[encoded data removed]",
            "text/plain": [
              "<Figure size 432x288 with 1 Axes>"
            ]
          },
          "metadata": {
            "tags": [],
            "needs_background": "light"
          }
        }
      ]
    },
    {
      "cell_type": "code",
      "metadata": {
        "colab": {
          "base_uri": "https://localhost:8080/"
        },
        "id": "zjVkYmwIHaVH",
        "outputId": "eebd77d3-cc3e-44c0-aca6-c373a7442748"
      },
      "source": [
        "def testing(model):\n",
        "    model.eval()\n",
        "    \n",
        "    correct_preds = 0\n",
        "    total_preds = 0\n",
        "    \n",
        "    with torch.no_grad():\n",
        "        for x_test, y_test in testing_dataloader:\n",
        "            x_test = x_test.to(device=device, dtype=torch.float32)\n",
        "            y_test = y_test.to(device=device, dtype=torch.long)\n",
        "            \n",
        "            _,pred = model(x_test).max(1)\n",
        "            \n",
        "            correct_preds += (pred==y_test).sum()\n",
        "            total_preds   += pred.size(0)\n",
        "            \n",
        "    accuracy = 100 * torch.true_divide(correct_preds,total_preds)\n",
        "    print('Correct predictions {}/{}, accuracy = {:.2f}%.'.format(correct_preds, total_preds, accuracy))\n",
        "    \n",
        "testing(model_CSP)"
      ],
      "execution_count": 13,
      "outputs": [
        {
          "output_type": "stream",
          "text": [
            "Correct predictions 7441/10000, accuracy = 74.41%.\n"
          ],
          "name": "stdout"
        }
      ]
    },
    {
      "cell_type": "code",
      "metadata": {
        "id": "AFzn35HqHaVI"
      },
      "source": [
        "# Save weights if desired\n",
        "# torch.save(model_CSP.state_dict(), 'CSPNetModel.pt')"
      ],
      "execution_count": null,
      "outputs": []
    },
    {
      "cell_type": "code",
      "metadata": {
        "id": "s0Xy-vle0zma"
      },
      "source": [],
      "execution_count": null,
      "outputs": []
    }
  ]
}