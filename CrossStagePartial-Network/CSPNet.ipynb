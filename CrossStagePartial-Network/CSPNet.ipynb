{
  "nbformat": 4,
  "nbformat_minor": 0,
  "metadata": {
    "language_info": {
      "codemirror_mode": {
        "name": "ipython",
        "version": 3
      },
      "file_extension": ".py",
      "mimetype": "text/x-python",
      "name": "python",
      "nbconvert_exporter": "python",
      "pygments_lexer": "ipython3",
      "version": "3.7.9-final"
    },
    "orig_nbformat": 2,
    "kernelspec": {
      "name": "python3",
      "display_name": "Python 3.7.9 64-bit ('main_package': conda)",
      "metadata": {
        "interpreter": {
          "hash": "a5cdc093ed020a4324a6a22aab0824dac5220560d8490d5b3512452966cd8371"
        }
      }
    },
    "colab": {
      "name": "CSPNet.ipynb",
      "provenance": []
    },
    "accelerator": "GPU"
  },
  "cells": [
    {
      "cell_type": "code",
      "metadata": {
        "id": "l3BZwobmHaU-"
      },
      "source": [
        "import math\n",
        "import statistics\n",
        "import numpy as np\n",
        "import matplotlib.pyplot as plt\n",
        "\n",
        "import torch\n",
        "import torch.nn as nn\n",
        "import torch.nn.functional as F\n",
        "from torchvision import datasets, transforms as T\n",
        "from torch.utils.data import Dataset, DataLoader, sampler\n",
        "\n",
        "from common import CSPBlock, Conv2dBlock"
      ],
      "execution_count": 3,
      "outputs": []
    },
    {
      "cell_type": "code",
      "metadata": {
        "id": "irza4cAKHaVD"
      },
      "source": [
        "# Define the hyperparameters\n",
        "LEARNING_RATE = 1e-3\n",
        "BATCH_SIZE = 64\n",
        "EPOCHS = 10\n",
        "VAL_SIZE = 10 # In percentage\n",
        "\n",
        "R_MEAN = 0.4914\n",
        "G_MEAN = 0.4822\n",
        "B_MEAN = 0.4465\n",
        "R_STD = 0.2023\n",
        "G_STD = 0.1994\n",
        "B_STD = 0.2010"
      ],
      "execution_count": 15,
      "outputs": []
    },
    {
      "cell_type": "code",
      "metadata": {
        "colab": {
          "base_uri": "https://localhost:8080/"
        },
        "id": "QZnz3R7HHaVE",
        "outputId": "e127970a-4bc8-4606-b153-984437687403"
      },
      "source": [
        "use_cuda = torch.cuda.is_available()\n",
        "device = torch.device('cuda' if use_cuda else 'cpu')\n",
        "print('Using GPU: {}'.format(use_cuda))"
      ],
      "execution_count": 16,
      "outputs": [
        {
          "output_type": "stream",
          "text": [
            "Using GPU: True\n"
          ],
          "name": "stdout"
        }
      ]
    },
    {
      "cell_type": "code",
      "metadata": {
        "id": "hymD_0eVHaVE"
      },
      "source": [
        "# Set seed during training for reproducibility\n",
        "np.random.seed(0)\n",
        "torch.manual_seed(0)\n",
        "if use_cuda:\n",
        "    torch.cuda.manual_seed(0)"
      ],
      "execution_count": 17,
      "outputs": []
    },
    {
      "cell_type": "code",
      "metadata": {
        "id": "nmljbVS6HaVF"
      },
      "source": [
        "# Normalise the dataset\n",
        "transform = T.Compose([\n",
        "    T.ToTensor(),\n",
        "    T.Normalize((R_MEAN, G_MEAN, B_MEAN), (R_STD, G_STD, B_STD))\n",
        "])\n",
        "\n",
        "# Augement and normalise the dataset\n",
        "transform_aug = T.Compose([\n",
        "    T.RandomCrop(32, padding=4),\n",
        "    T.RandomHorizontalFlip(p=0.5),\n",
        "    T.ToTensor(),\n",
        "    T.Normalize((R_MEAN, G_MEAN, B_MEAN), (R_STD, G_STD, B_STD))\n",
        "])"
      ],
      "execution_count": 18,
      "outputs": []
    },
    {
      "cell_type": "code",
      "metadata": {
        "colab": {
          "base_uri": "https://localhost:8080/"
        },
        "id": "E2Dw0gl6HaVF",
        "outputId": "b940a772-d167-4ab2-95fd-d1746fe7d2b1"
      },
      "source": [
        "training_dataset = datasets.CIFAR10(root='data/', train=True,  transform=transform, download=True)\n",
        "testing_dataset  = datasets.CIFAR10(root='data/', train=False, transform=transform, download=True)\n",
        "\n",
        "split_point = math.floor( (100-VAL_SIZE) * len(training_dataset) / 100) \n",
        "indices = list(range(len(training_dataset)))\n",
        "\n",
        "training_dataloader   = torch.utils.data.DataLoader(training_dataset, batch_size=BATCH_SIZE, \n",
        "                                                    sampler=torch.utils.data.SubsetRandomSampler(indices[:split_point],\n",
        "                                                                                                 generator = torch.Generator().manual_seed(0)))\n",
        "validation_dataloader = torch.utils.data.DataLoader(training_dataset, batch_size=BATCH_SIZE, \n",
        "                                                    sampler=torch.utils.data.SubsetRandomSampler(indices[split_point:],\n",
        "                                                                                                 generator = torch.Generator().manual_seed(0)))\n",
        "                                                                                                 \n",
        "testing_dataloader    = torch.utils.data.DataLoader(testing_dataset,  batch_size=BATCH_SIZE, shuffle=False)"
      ],
      "execution_count": 19,
      "outputs": [
        {
          "output_type": "stream",
          "text": [
            "Files already downloaded and verified\n",
            "Files already downloaded and verified\n"
          ],
          "name": "stdout"
        }
      ]
    },
    {
      "cell_type": "code",
      "metadata": {
        "id": "A_el_tdsHaVG"
      },
      "source": [
        "class CSPNet(nn.Module):\n",
        "    def __init__(self):\n",
        "        super(CSPNet,self).__init__()\n",
        "        self.network = nn.Sequential(\n",
        "            Conv2dBlock(in_C=3,  out_C=32, k=3, s=1, p=1, bias=False, activation='leakyRelu'),\n",
        "            Conv2dBlock(in_C=32, out_C=32, k=3, s=2, p=1, bias=False, activation='leakyRelu'),\n",
        "\n",
        "            CSPBlock(in_C=32, no_of_blocks=1, activation='leakyRelu'),\n",
        "            Conv2dBlock(in_C=32, out_C=64, k=3, s=2, p=1, bias=False, activation='leakyRelu'),\n",
        "\n",
        "            CSPBlock(in_C=64, no_of_blocks=1, activation='leakyRelu'),\n",
        "            Conv2dBlock(in_C=64, out_C=128, k=3, s=2, p=1, bias=False, activation='leakyRelu'),\n",
        "\n",
        "            nn.AvgPool2d(kernel_size=4),\n",
        "            \n",
        "            nn.Flatten(),\n",
        "            nn.Linear(in_features=128,  out_features=10)\n",
        "        )\n",
        "\n",
        "    def forward(self, x):\n",
        "        return self.network(x)"
      ],
      "execution_count": 20,
      "outputs": []
    },
    {
      "cell_type": "code",
      "metadata": {
        "id": "y26KUy4kHaVG"
      },
      "source": [
        "def loss_function(pred, y):\n",
        "    return F.cross_entropy(pred, y)"
      ],
      "execution_count": 21,
      "outputs": []
    },
    {
      "cell_type": "code",
      "metadata": {
        "id": "0U3RS67dHaVG"
      },
      "source": [
        "validation_losses = []\n",
        "def validate(model):\n",
        "    losses = []\n",
        "    \n",
        "    model.eval()\n",
        "    \n",
        "    with torch.no_grad():\n",
        "        for x_valid,y_valid in validation_dataloader:\n",
        "            x_valid = x_valid.to(device=device, dtype=torch.float32)\n",
        "            y_valid = y_valid.to(device=device, dtype=torch.long)\n",
        "            \n",
        "            pred = model(x_valid)\n",
        "            \n",
        "            loss = loss_function(pred,y_valid).item()\n",
        "            losses.append(loss)\n",
        "            \n",
        "    validation_losses.append(statistics.mean(losses))"
      ],
      "execution_count": 22,
      "outputs": []
    },
    {
      "cell_type": "code",
      "metadata": {
        "id": "AWcm9H46HaVH"
      },
      "source": [
        "training_losses = []\n",
        "def training(model, optimiser):\n",
        "    for epoch in range(EPOCHS):\n",
        "        losses = []\n",
        "        model.train()\n",
        "        \n",
        "        for x_train, y_train in training_dataloader:\n",
        "            x_train = x_train.to(device=device, dtype=torch.float32)\n",
        "            y_train = y_train.to(device=device, dtype=torch.long)\n",
        "            \n",
        "            pred = model(x_train)\n",
        "            \n",
        "            loss = loss_function(pred,y_train)\n",
        "            losses.append(loss.item())\n",
        "            \n",
        "            optimiser.zero_grad()\n",
        "            loss.backward()\n",
        "            optimiser.step()\n",
        "            \n",
        "        mean_loss = statistics.mean(losses)\n",
        "        training_losses.append(mean_loss)\n",
        "        print(\"Epoch {}/{}, training loss = {:.2f}\".format(epoch+1, EPOCHS, mean_loss))\n",
        "        \n",
        "        validate(model)"
      ],
      "execution_count": 23,
      "outputs": []
    },
    {
      "cell_type": "code",
      "metadata": {
        "colab": {
          "base_uri": "https://localhost:8080/",
          "height": 449
        },
        "id": "ol0_aEG1HaVH",
        "outputId": "e4c363dc-3479-46db-9460-be9005a591aa"
      },
      "source": [
        "model_CSP = CSPNet()\n",
        "model_CSP = model_CSP.to(device=device)\n",
        "\n",
        "optimizer = torch.optim.Adam(model_CSP.parameters(), lr=LEARNING_RATE)\n",
        "\n",
        "training(model_CSP, optimizer)\n",
        "\n",
        "plt.figure(0)\n",
        "plt.plot(list(range(1,EPOCHS+1)), training_losses, 'b')\n",
        "plt.plot(list(range(1,EPOCHS+1)), validation_losses, 'r')\n",
        "plt.xticks(list(range(1,EPOCHS+1)))\n",
        "plt.xlabel('Epoch')\n",
        "plt.ylabel('Loss')\n",
        "plt.legend(['Train loss','Validation loss'])\n",
        "plt.show()"
      ],
      "execution_count": 24,
      "outputs": [
        {
          "output_type": "stream",
          "text": [
            "Epoch 1/10, training loss = 1.44\n",
            "Epoch 2/10, training loss = 1.06\n",
            "Epoch 3/10, training loss = 0.93\n",
            "Epoch 4/10, training loss = 0.84\n",
            "Epoch 5/10, training loss = 0.77\n",
            "Epoch 6/10, training loss = 0.71\n",
            "Epoch 7/10, training loss = 0.67\n",
            "Epoch 8/10, training loss = 0.63\n",
            "Epoch 9/10, training loss = 0.59\n",
            "Epoch 10/10, training loss = 0.56\n"
          ],
          "name": "stdout"
        },
        {
          "output_type": "display_data",
          "data": {
            "image/png": "[encoded data removed]",
            "text/plain": [
              "<Figure size 432x288 with 1 Axes>"
            ]
          },
          "metadata": {
            "tags": [],
            "needs_background": "light"
          }
        }
      ]
    },
    {
      "cell_type": "code",
      "metadata": {
        "colab": {
          "base_uri": "https://localhost:8080/"
        },
        "id": "zjVkYmwIHaVH",
        "outputId": "3d50f077-f445-4312-b842-dcc322d311e8"
      },
      "source": [
        "def testing(model):\n",
        "    model.eval()\n",
        "    \n",
        "    correct_preds = 0\n",
        "    total_preds = 0\n",
        "    \n",
        "    with torch.no_grad():\n",
        "        for x_test, y_test in testing_dataloader:\n",
        "            x_test = x_test.to(device=device, dtype=torch.float32)\n",
        "            y_test = y_test.to(device=device, dtype=torch.long)\n",
        "            \n",
        "            _,pred = model(x_test).max(1)\n",
        "            \n",
        "            correct_preds += (pred==y_test).sum()\n",
        "            total_preds   += pred.size(0)\n",
        "            \n",
        "    accuracy = 100 * torch.true_divide(correct_preds,total_preds)\n",
        "    print('Correct predictions {}/{}, accuracy = {:.2f}%.'.format(correct_preds, total_preds, accuracy))\n",
        "    \n",
        "testing(model_CSP)"
      ],
      "execution_count": 25,
      "outputs": [
        {
          "output_type": "stream",
          "text": [
            "Correct predictions 7309/10000, accuracy = 73.09%.\n"
          ],
          "name": "stdout"
        }
      ]
    },
    {
      "cell_type": "code",
      "metadata": {
        "id": "AFzn35HqHaVI"
      },
      "source": [
        "# Save weights if desired\n",
        "# torch.save(model_CSP.state_dict(), 'CSPNetModel.pt')"
      ],
      "execution_count": 26,
      "outputs": []
    },
    {
      "cell_type": "code",
      "metadata": {
        "id": "s0Xy-vle0zma"
      },
      "source": [
        ""
      ],
      "execution_count": null,
      "outputs": []
    }
  ]
}