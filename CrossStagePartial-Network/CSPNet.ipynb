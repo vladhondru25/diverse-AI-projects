{
  "nbformat": 4,
  "nbformat_minor": 0,
  "metadata": {
    "language_info": {
      "codemirror_mode": {
        "name": "ipython",
        "version": 3
      },
      "file_extension": ".py",
      "mimetype": "text/x-python",
      "name": "python",
      "nbconvert_exporter": "python",
      "pygments_lexer": "ipython3",
      "version": "3.7.9-final"
    },
    "orig_nbformat": 2,
    "kernelspec": {
      "name": "python3",
      "display_name": "Python 3.7.9 64-bit ('main_package': conda)",
      "metadata": {
        "interpreter": {
          "hash": "a5cdc093ed020a4324a6a22aab0824dac5220560d8490d5b3512452966cd8371"
        }
      }
    },
    "colab": {
      "name": "CSPNet.ipynb",
      "provenance": []
    },
    "accelerator": "GPU",
    "widgets": {
      "application/vnd.jupyter.widget-state+json": {
        "501fde38acd2483faa63c51b73e7f41c": {
          "model_module": "@jupyter-widgets/controls",
          "model_name": "HBoxModel",
          "state": {
            "_view_name": "HBoxView",
            "_dom_classes": [],
            "_model_name": "HBoxModel",
            "_view_module": "@jupyter-widgets/controls",
            "_model_module_version": "1.5.0",
            "_view_count": null,
            "_view_module_version": "1.5.0",
            "box_style": "",
            "layout": "IPY_MODEL_bb45c561046f45c78c3e40db3e186737",
            "_model_module": "@jupyter-widgets/controls",
            "children": [
              "IPY_MODEL_2c09279a5afc423a88081612137047a1",
              "IPY_MODEL_b1e9c7800cf04a0692d2deed8e165601"
            ]
          }
        },
        "bb45c561046f45c78c3e40db3e186737": {
          "model_module": "@jupyter-widgets/base",
          "model_name": "LayoutModel",
          "state": {
            "_view_name": "LayoutView",
            "grid_template_rows": null,
            "right": null,
            "justify_content": null,
            "_view_module": "@jupyter-widgets/base",
            "overflow": null,
            "_model_module_version": "1.2.0",
            "_view_count": null,
            "flex_flow": null,
            "width": null,
            "min_width": null,
            "border": null,
            "align_items": null,
            "bottom": null,
            "_model_module": "@jupyter-widgets/base",
            "top": null,
            "grid_column": null,
            "overflow_y": null,
            "overflow_x": null,
            "grid_auto_flow": null,
            "grid_area": null,
            "grid_template_columns": null,
            "flex": null,
            "_model_name": "LayoutModel",
            "justify_items": null,
            "grid_row": null,
            "max_height": null,
            "align_content": null,
            "visibility": null,
            "align_self": null,
            "height": null,
            "min_height": null,
            "padding": null,
            "grid_auto_rows": null,
            "grid_gap": null,
            "max_width": null,
            "order": null,
            "_view_module_version": "1.2.0",
            "grid_template_areas": null,
            "object_position": null,
            "object_fit": null,
            "grid_auto_columns": null,
            "margin": null,
            "display": null,
            "left": null
          }
        },
        "2c09279a5afc423a88081612137047a1": {
          "model_module": "@jupyter-widgets/controls",
          "model_name": "FloatProgressModel",
          "state": {
            "_view_name": "ProgressView",
            "style": "IPY_MODEL_76364fe7b89b4802a0e2bdf13ad2800c",
            "_dom_classes": [],
            "description": "",
            "_model_name": "FloatProgressModel",
            "bar_style": "info",
            "max": 1,
            "_view_module": "@jupyter-widgets/controls",
            "_model_module_version": "1.5.0",
            "value": 1,
            "_view_count": null,
            "_view_module_version": "1.5.0",
            "orientation": "horizontal",
            "min": 0,
            "description_tooltip": null,
            "_model_module": "@jupyter-widgets/controls",
            "layout": "IPY_MODEL_6e02f765b4e241e389cc5f6809a43aa0"
          }
        },
        "b1e9c7800cf04a0692d2deed8e165601": {
          "model_module": "@jupyter-widgets/controls",
          "model_name": "HTMLModel",
          "state": {
            "_view_name": "HTMLView",
            "style": "IPY_MODEL_517dbef2b36040279024ee36149bfebf",
            "_dom_classes": [],
            "description": "",
            "_model_name": "HTMLModel",
            "placeholder": "​",
            "_view_module": "@jupyter-widgets/controls",
            "_model_module_version": "1.5.0",
            "value": " 170500096/? [00:20&lt;00:00, 53490663.15it/s]",
            "_view_count": null,
            "_view_module_version": "1.5.0",
            "description_tooltip": null,
            "_model_module": "@jupyter-widgets/controls",
            "layout": "IPY_MODEL_5395d9583f504c8da552e8090faee098"
          }
        },
        "76364fe7b89b4802a0e2bdf13ad2800c": {
          "model_module": "@jupyter-widgets/controls",
          "model_name": "ProgressStyleModel",
          "state": {
            "_view_name": "StyleView",
            "_model_name": "ProgressStyleModel",
            "description_width": "initial",
            "_view_module": "@jupyter-widgets/base",
            "_model_module_version": "1.5.0",
            "_view_count": null,
            "_view_module_version": "1.2.0",
            "bar_color": null,
            "_model_module": "@jupyter-widgets/controls"
          }
        },
        "6e02f765b4e241e389cc5f6809a43aa0": {
          "model_module": "@jupyter-widgets/base",
          "model_name": "LayoutModel",
          "state": {
            "_view_name": "LayoutView",
            "grid_template_rows": null,
            "right": null,
            "justify_content": null,
            "_view_module": "@jupyter-widgets/base",
            "overflow": null,
            "_model_module_version": "1.2.0",
            "_view_count": null,
            "flex_flow": null,
            "width": null,
            "min_width": null,
            "border": null,
            "align_items": null,
            "bottom": null,
            "_model_module": "@jupyter-widgets/base",
            "top": null,
            "grid_column": null,
            "overflow_y": null,
            "overflow_x": null,
            "grid_auto_flow": null,
            "grid_area": null,
            "grid_template_columns": null,
            "flex": null,
            "_model_name": "LayoutModel",
            "justify_items": null,
            "grid_row": null,
            "max_height": null,
            "align_content": null,
            "visibility": null,
            "align_self": null,
            "height": null,
            "min_height": null,
            "padding": null,
            "grid_auto_rows": null,
            "grid_gap": null,
            "max_width": null,
            "order": null,
            "_view_module_version": "1.2.0",
            "grid_template_areas": null,
            "object_position": null,
            "object_fit": null,
            "grid_auto_columns": null,
            "margin": null,
            "display": null,
            "left": null
          }
        },
        "517dbef2b36040279024ee36149bfebf": {
          "model_module": "@jupyter-widgets/controls",
          "model_name": "DescriptionStyleModel",
          "state": {
            "_view_name": "StyleView",
            "_model_name": "DescriptionStyleModel",
            "description_width": "",
            "_view_module": "@jupyter-widgets/base",
            "_model_module_version": "1.5.0",
            "_view_count": null,
            "_view_module_version": "1.2.0",
            "_model_module": "@jupyter-widgets/controls"
          }
        },
        "5395d9583f504c8da552e8090faee098": {
          "model_module": "@jupyter-widgets/base",
          "model_name": "LayoutModel",
          "state": {
            "_view_name": "LayoutView",
            "grid_template_rows": null,
            "right": null,
            "justify_content": null,
            "_view_module": "@jupyter-widgets/base",
            "overflow": null,
            "_model_module_version": "1.2.0",
            "_view_count": null,
            "flex_flow": null,
            "width": null,
            "min_width": null,
            "border": null,
            "align_items": null,
            "bottom": null,
            "_model_module": "@jupyter-widgets/base",
            "top": null,
            "grid_column": null,
            "overflow_y": null,
            "overflow_x": null,
            "grid_auto_flow": null,
            "grid_area": null,
            "grid_template_columns": null,
            "flex": null,
            "_model_name": "LayoutModel",
            "justify_items": null,
            "grid_row": null,
            "max_height": null,
            "align_content": null,
            "visibility": null,
            "align_self": null,
            "height": null,
            "min_height": null,
            "padding": null,
            "grid_auto_rows": null,
            "grid_gap": null,
            "max_width": null,
            "order": null,
            "_view_module_version": "1.2.0",
            "grid_template_areas": null,
            "object_position": null,
            "object_fit": null,
            "grid_auto_columns": null,
            "margin": null,
            "display": null,
            "left": null
          }
        }
      }
    }
  },
  "cells": [
    {
      "cell_type": "code",
      "metadata": {
        "id": "l3BZwobmHaU-"
      },
      "source": [
        "import math\n",
        "import statistics\n",
        "import numpy as np\n",
        "import matplotlib.pyplot as plt\n",
        "\n",
        "import torch\n",
        "import torch.nn as nn\n",
        "import torch.nn.functional as F\n",
        "from torchvision import datasets, transforms as T\n",
        "from torch.utils.data import Dataset, DataLoader, sampler"
      ],
      "execution_count": 1,
      "outputs": []
    },
    {
      "cell_type": "code",
      "metadata": {
        "id": "irza4cAKHaVD"
      },
      "source": [
        "# Define the hyperparameters\n",
        "LEARNING_RATE = 1e-3\n",
        "BATCH_SIZE = 64\n",
        "EPOCHS = 1\n",
        "VAL_SIZE = 10 # In percentage\n",
        "\n",
        "R_MEAN = 0.4914\n",
        "G_MEAN = 0.4822\n",
        "B_MEAN = 0.4465\n",
        "R_STD = 0.2023\n",
        "G_STD = 0.1994\n",
        "B_STD = 0.2010"
      ],
      "execution_count": 8,
      "outputs": []
    },
    {
      "cell_type": "code",
      "metadata": {
        "colab": {
          "base_uri": "https://localhost:8080/"
        },
        "id": "QZnz3R7HHaVE",
        "outputId": "6e55def2-01f9-4879-ded8-75cbdf9905fb"
      },
      "source": [
        "use_cuda = torch.cuda.is_available()\n",
        "device = torch.device('cuda' if use_cuda else 'cpu')\n",
        "print('Using GPU: {}'.format(use_cuda))"
      ],
      "execution_count": 9,
      "outputs": [
        {
          "output_type": "stream",
          "name": "stdout",
          "text": [
            "Using GPU: False\n"
          ]
        }
      ]
    },
    {
      "cell_type": "code",
      "metadata": {
        "id": "hymD_0eVHaVE"
      },
      "source": [
        "# Set seed during training for reproducibility\n",
        "np.random.seed(0)\n",
        "torch.manual_seed(0)\n",
        "if use_cuda:\n",
        "    torch.cuda.manual_seed(0)"
      ],
      "execution_count": 10,
      "outputs": []
    },
    {
      "cell_type": "code",
      "metadata": {
        "id": "nmljbVS6HaVF"
      },
      "source": [
        "# Normalise the dataset\n",
        "transform = T.Compose([\n",
        "    T.ToTensor(),\n",
        "    T.Normalize((R_MEAN, G_MEAN, B_MEAN), (R_STD, G_STD, B_STD))\n",
        "])\n",
        "\n",
        "# Augement and normalise the dataset\n",
        "transform_aug = T.Compose([\n",
        "    T.RandomCrop(32, padding=4),\n",
        "    T.RandomHorizontalFlip(p=0.5),\n",
        "    T.ToTensor(),\n",
        "    T.Normalize((R_MEAN, G_MEAN, B_MEAN), (R_STD, G_STD, B_STD))\n",
        "])"
      ],
      "execution_count": 11,
      "outputs": []
    },
    {
      "cell_type": "code",
      "metadata": {
        "colab": {
          "base_uri": "https://localhost:8080/",
          "height": 100,
          "referenced_widgets": [
            "501fde38acd2483faa63c51b73e7f41c",
            "bb45c561046f45c78c3e40db3e186737",
            "2c09279a5afc423a88081612137047a1",
            "b1e9c7800cf04a0692d2deed8e165601",
            "76364fe7b89b4802a0e2bdf13ad2800c",
            "6e02f765b4e241e389cc5f6809a43aa0",
            "517dbef2b36040279024ee36149bfebf",
            "5395d9583f504c8da552e8090faee098"
          ]
        },
        "id": "E2Dw0gl6HaVF",
        "outputId": "6da8566c-a600-4947-fcef-767a3a291e6c"
      },
      "source": [
        "training_dataset = datasets.CIFAR10(root='data/', train=True,  transform=transform, download=True)\n",
        "testing_dataset  = datasets.CIFAR10(root='data/', train=False, transform=transform, download=True)\n",
        "\n",
        "split_point = math.floor( (100-VAL_SIZE) * len(training_dataset) / 100) \n",
        "indices = list(range(len(training_dataset)))\n",
        "\n",
        "training_dataloader   = torch.utils.data.DataLoader(training_dataset, batch_size=BATCH_SIZE, \n",
        "                                                    sampler=torch.utils.data.SubsetRandomSampler(indices[:split_point],\n",
        "                                                                                                 generator = torch.Generator().manual_seed(0)))\n",
        "validation_dataloader = torch.utils.data.DataLoader(training_dataset, batch_size=BATCH_SIZE, \n",
        "                                                    sampler=torch.utils.data.SubsetRandomSampler(indices[split_point:],\n",
        "                                                                                                 generator = torch.Generator().manual_seed(0)))\n",
        "                                                                                                 \n",
        "testing_dataloader    = torch.utils.data.DataLoader(testing_dataset,  batch_size=BATCH_SIZE, shuffle=False)"
      ],
      "execution_count": 12,
      "outputs": [
        {
          "output_type": "stream",
          "name": "stdout",
          "text": [
            "Files already downloaded and verified\n",
            "Files already downloaded and verified\n"
          ]
        }
      ]
    },
    {
      "cell_type": "code",
      "execution_count": 13,
      "metadata": {},
      "outputs": [],
      "source": [
        "class Mish(nn.Module):\n",
        "    def __init__(self):\n",
        "        super(Mish,self).__init__()\n",
        "\n",
        "    def forward(self, x):\n",
        "        return x * nn.tanh(nn.softplus(x))\n",
        "\n",
        "ACTIVATIONS = {\n",
        "    'relu': nn.ReLU(inplace=True),\n",
        "    'mish': Mish(),\n",
        "    'linear': nn.Identity()\n",
        "}"
      ]
    },
    {
      "cell_type": "code",
      "execution_count": null,
      "metadata": {},
      "outputs": [],
      "source": [
        "class Conv2dBlock(nn.Module):\n",
        "    def __init__(self, in_C, out_C, k, s, p, activation='relu'):\n",
        "        super(Conv2dBlock,self).__init__()\n",
        "        self.forward_pass = nn.Sequential(\n",
        "            nn.Conv2d(in_channels=in_C, out_channels=out_C, kernel_size=k, stride=s, padding=p, bias=False),\n",
        "            nn.BatchNorm2d(out_C),\n",
        "            ACTIVATIONS[activation]\n",
        "        )\n",
        "\n",
        "    def forward(self, x):\n",
        "        return self.forward_pass(x)"
      ]
    },
    {
      "cell_type": "code",
      "metadata": {
        "id": "pN7GaqoUHaVF"
      },
      "source": [
        "class CrossStagePartialBlock(nn.Module):\n",
        "    def __init__(self, initial_channels, denseBlock_noLayers, c_OUT):\n",
        "        super(CrossStagePartialBlock,self).__init__()\n",
        "        self.initial_channels = initial_channels\n",
        "        self.denseBlock_noLayers = denseBlock_noLayers\n",
        "\n",
        "        self.dense_block_layers = []\n",
        "        for k in range(1,1+self.denseBlock_noLayers):\n",
        "            self.dense_block_layers.append(\n",
        "                Conv2dBlock(in_C=k*self.initial_channels//2, out_C=self.initial_channels//2,  k=3, s=1, p=1).to(device=device)\n",
        "            )\n",
        "\n",
        "        self.transition1 = Conv2dBlock(in_C=(1+self.denseBlock_noLayers)*self.initial_channels//2, \n",
        "                                      out_C=(1+self.denseBlock_noLayers)*self.initial_channels//2, k=3, s=1, p=1)\n",
        "\n",
        "        self.transition2 = Conv2dBlock(in_C=(2+self.denseBlock_noLayers)*self.initial_channels//2, out_C=c_OUT, k=3, s=1, p=1)\n",
        "        \n",
        "    def forward(self,x):\n",
        "        x_0_prime, x_0_second = torch.split(x, (self.initial_channels//2,self.initial_channels//2), dim=1)\n",
        "        \n",
        "        dense_block_input = x_0_second\n",
        "        for k in range(self.denseBlock_noLayers):\n",
        "            dense_block_input = torch.cat((dense_block_input,self.dense_block_layers[k](dense_block_input)), dim=1)\n",
        "\n",
        "        x_T = self.transition1(dense_block_input)\n",
        "        x_U = self.transition2(torch.cat((x_0_prime,x_T), dim=1))\n",
        "\n",
        "        return x_U"
      ],
      "execution_count": 71,
      "outputs": []
    },
    {
      "cell_type": "code",
      "metadata": {
        "id": "A_el_tdsHaVG"
      },
      "source": [
        "class CSPNet(nn.Module):\n",
        "    def __init__(self):\n",
        "        super(CSPNet,self).__init__()\n",
        "        self.network = nn.Sequential(\n",
        "            nn.Conv2d(in_channels=3, out_channels=64,  kernel_size=3, stride=1, padding=0),\n",
        "            nn.BatchNorm2d(64),\n",
        "            nn.ReLU(inplace=True),\n",
        "            nn.MaxPool2d(kernel_size=2, stride=2),\n",
        "\n",
        "            nn.Conv2d(in_channels=64, out_channels=128,  kernel_size=3, stride=1, padding=0),\n",
        "            nn.BatchNorm2d(128),\n",
        "            nn.ReLU(inplace=True),\n",
        "            nn.MaxPool2d(kernel_size=2, stride=2),\n",
        "\n",
        "            CrossStagePartialBlock(initial_channels=128, denseBlock_noLayers=3, c_OUT=256),\n",
        "            nn.MaxPool2d(kernel_size=2, stride=2),\n",
        "\n",
        "            CrossStagePartialBlock(initial_channels=256, denseBlock_noLayers=3, c_OUT=512),\n",
        "            nn.AvgPool2d(kernel_size=3),\n",
        "            \n",
        "            nn.Flatten(),\n",
        "            nn.Linear(in_features=512,  out_features=10)\n",
        "        )\n",
        "\n",
        "    def forward(self, x):\n",
        "        return self.network(x)"
      ],
      "execution_count": 72,
      "outputs": []
    },
    {
      "cell_type": "code",
      "metadata": {
        "id": "y26KUy4kHaVG"
      },
      "source": [
        "def loss_function(pred, y):\n",
        "    return F.cross_entropy(pred, y)"
      ],
      "execution_count": 73,
      "outputs": []
    },
    {
      "cell_type": "code",
      "metadata": {
        "id": "0U3RS67dHaVG"
      },
      "source": [
        "validation_losses = []\n",
        "def validate(model):\n",
        "    losses = []\n",
        "    \n",
        "    model.eval()\n",
        "    \n",
        "    with torch.no_grad():\n",
        "        for x_valid,y_valid in validation_dataloader:\n",
        "            x_valid = x_valid.to(device=device, dtype=torch.float32)\n",
        "            y_valid = y_valid.to(device=device, dtype=torch.long)\n",
        "            \n",
        "            pred = model(x_valid)\n",
        "            \n",
        "            loss = loss_function(pred,y_valid).item()\n",
        "            losses.append(loss)\n",
        "            \n",
        "    validation_losses.append(statistics.mean(losses))"
      ],
      "execution_count": 74,
      "outputs": []
    },
    {
      "cell_type": "code",
      "metadata": {
        "id": "AWcm9H46HaVH"
      },
      "source": [
        "training_losses = []\n",
        "def training(model, optimiser):\n",
        "    for epoch in range(EPOCHS):\n",
        "        losses = []\n",
        "        model.train()\n",
        "        \n",
        "        for x_train, y_train in training_dataloader:\n",
        "            x_train = x_train.to(device=device, dtype=torch.float32)\n",
        "            y_train = y_train.to(device=device, dtype=torch.long)\n",
        "            \n",
        "            pred = model(x_train)\n",
        "            \n",
        "            loss = loss_function(pred,y_train)\n",
        "            losses.append(loss.item())\n",
        "            \n",
        "            optimiser.zero_grad()\n",
        "            loss.backward()\n",
        "            optimiser.step()\n",
        "            \n",
        "        mean_loss = statistics.mean(losses)\n",
        "        training_losses.append(mean_loss)\n",
        "        print(\"Epoch {}/{}, training loss = {:.2f}\".format(epoch+1, EPOCHS, mean_loss))\n",
        "        \n",
        "        validate(model)"
      ],
      "execution_count": 75,
      "outputs": []
    },
    {
      "cell_type": "code",
      "metadata": {
        "colab": {
          "base_uri": "https://localhost:8080/",
          "height": 449
        },
        "id": "ol0_aEG1HaVH",
        "outputId": "8130216f-aae6-4b29-e8f6-aefb484c145f"
      },
      "source": [
        "model_CSP = CSPNet()\n",
        "model_CSP = model_CSP.to(device=device)\n",
        "\n",
        "optimizer = torch.optim.Adam(model_CSP.parameters(), lr=LEARNING_RATE)\n",
        "\n",
        "training(model_CSP, optimizer)\n",
        "\n",
        "plt.figure(0)\n",
        "plt.plot(list(range(1,EPOCHS+1)), training_losses, 'b')\n",
        "plt.plot(list(range(1,EPOCHS+1)), validation_losses, 'r')\n",
        "plt.xticks(list(range(1,EPOCHS+1)))\n",
        "plt.xlabel('Epoch')\n",
        "plt.ylabel('Loss')\n",
        "plt.legend(['Train loss','Validation loss'])\n",
        "plt.show()"
      ],
      "execution_count": 76,
      "outputs": [
        {
          "output_type": "stream",
          "text": [
            "Epoch 1/10, training loss = 1.67\n",
            "Epoch 2/10, training loss = 1.08\n",
            "Epoch 3/10, training loss = 0.93\n",
            "Epoch 4/10, training loss = 0.82\n",
            "Epoch 5/10, training loss = 0.73\n",
            "Epoch 6/10, training loss = 0.68\n",
            "Epoch 7/10, training loss = 0.63\n",
            "Epoch 8/10, training loss = 0.55\n",
            "Epoch 9/10, training loss = 0.51\n",
            "Epoch 10/10, training loss = 0.48\n"
          ],
          "name": "stdout"
        },
        {
          "output_type": "display_data",
          "data": {
            "image/png": "[encoded data removed]",
            "text/plain": [
              "<Figure size 432x288 with 1 Axes>"
            ]
          },
          "metadata": {
            "tags": [],
            "needs_background": "light"
          }
        }
      ]
    },
    {
      "cell_type": "code",
      "metadata": {
        "colab": {
          "base_uri": "https://localhost:8080/"
        },
        "id": "zjVkYmwIHaVH",
        "outputId": "f1c979e2-a242-4b84-e0dd-51d314d939c9"
      },
      "source": [
        "def testing(model):\n",
        "    model.eval()\n",
        "    \n",
        "    correct_preds = 0\n",
        "    total_preds = 0\n",
        "    \n",
        "    with torch.no_grad():\n",
        "        for x_test, y_test in testing_dataloader:\n",
        "            x_test = x_test.to(device=device, dtype=torch.float32)\n",
        "            y_test = y_test.to(device=device, dtype=torch.long)\n",
        "            \n",
        "            _,pred = model(x_test).max(1)\n",
        "            \n",
        "            correct_preds += (pred==y_test).sum()\n",
        "            total_preds   += pred.size(0)\n",
        "            \n",
        "    accuracy = 100 * torch.true_divide(correct_preds,total_preds)\n",
        "    print('Correct predictions {}/{}, accuracy = {:.2f}%.'.format(correct_preds, total_preds, accuracy))\n",
        "    \n",
        "testing(model_CSP)"
      ],
      "execution_count": 65,
      "outputs": [
        {
          "output_type": "stream",
          "text": [
            "Correct predictions 7348/10000, accuracy = 73.48%.\n"
          ],
          "name": "stdout"
        }
      ]
    },
    {
      "cell_type": "code",
      "metadata": {
        "id": "AFzn35HqHaVI"
      },
      "source": [
        "# Save weights if desired\n",
        "# torch.save(model_CSP.state_dict(), 'CSPNetModel.pt')"
      ],
      "execution_count": null,
      "outputs": []
    }
  ]
}