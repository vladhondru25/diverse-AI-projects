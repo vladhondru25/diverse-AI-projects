{
 "cells": [
  {
   "cell_type": "code",
   "execution_count": 31,
   "metadata": {},
   "outputs": [],
   "source": [
    "import math\n",
    "import statistics\n",
    "import numpy as np\n",
    "import matplotlib.pyplot as plt\n",
    "\n",
    "import torch\n",
    "import torch.nn as nn\n",
    "import torch.nn.functional as F\n",
    "import torch.optim as optim\n",
    "from torch.utils.data import Dataset, DataLoader, sampler\n",
    "from torchvision import datasets, transforms as T"
   ]
  },
  {
   "cell_type": "code",
   "execution_count": 43,
   "metadata": {},
   "outputs": [],
   "source": [
    "# Define the hyperparameters\n",
    "LEARNING_RATE = 1e-3\n",
    "BATCH_SIZE = 64\n",
    "EPOCHS = 5\n",
    "VAL_SIZE = 10 # In percentage\n",
    "\n",
    "R_MEAN = 0.4914\n",
    "G_MEAN = 0.4822\n",
    "B_MEAN = 0.4465\n",
    "R_STD = 0.2023\n",
    "G_STD = 0.1994\n",
    "B_STD = 0.2010"
   ]
  },
  {
   "cell_type": "code",
   "execution_count": 44,
   "metadata": {},
   "outputs": [
    {
     "name": "stdout",
     "output_type": "stream",
     "text": [
      "Using GPU: False\n"
     ]
    }
   ],
   "source": [
    "use_cuda = torch.cuda.is_available()\n",
    "device = torch.device('cuda' if use_cuda else 'cpu')\n",
    "print(\"Using GPU: {}\".format(use_cuda))"
   ]
  },
  {
   "cell_type": "code",
   "execution_count": 45,
   "metadata": {},
   "outputs": [],
   "source": [
    "# Set seed during training for reproducibility\n",
    "torch.manual_seed(0)\n",
    "if use_cuda:\n",
    "    torch.cuda.manual_seed(0)"
   ]
  },
  {
   "cell_type": "code",
   "execution_count": null,
   "metadata": {},
   "outputs": [],
   "source": [
    "# Normalise the dataset\n",
    "transform = T.Compose([\n",
    "                T.ToTensor(),\n",
    "                T.Normalize((R_MEAN, G_MEAN, B_MEAN), (R_STD, G_STD, B_STD))\n",
    "            ])\n",
    "# Augement and normalise the dataset\n",
    "transform_aug = T.Compose([\n",
    "                  T.RandomCrop(32, padding=4),\n",
    "                  T.RandomHorizontalFlip(p=0.5),\n",
    "                  T.ToTensor(),\n",
    "                  T.Normalize((R_MEAN, G_MEAN, B_MEAN), (R_STD, G_STD, B_STD))\n",
    "                ])"
   ]
  },
  {
   "cell_type": "code",
   "execution_count": 46,
   "metadata": {},
   "outputs": [],
   "source": [
    "training_dataset = datasets.MNIST(root='data/', train=True,  transform=transform, download=True)\n",
    "testing_dataset  = datasets.MNIST(root='data/', train=False, transform=transform, download=True)\n",
    "\n",
    "split_point = math.floor( (100-VAL_SIZE) * len(training_dataset) / 100) \n",
    "indices = list(range(len(training_dataset)))\n",
    "\n",
    "training_dataloader   = torch.utils.data.DataLoader(training_dataset, batch_size=BATCH_SIZE, \n",
    "                                                    sampler=torch.utils.data.SubsetRandomSampler(indices[:split_point],\n",
    "                                                                                                 generator = torch.Generator().manual_seed(0)))\n",
    "validation_dataloader = torch.utils.data.DataLoader(training_dataset, batch_size=BATCH_SIZE, \n",
    "                                                    sampler=torch.utils.data.SubsetRandomSampler(indices[split_point:]))\n",
    "testing_dataloader    = torch.utils.data.DataLoader(testing_dataset,  batch_size=BATCH_SIZE, shuffle=False)"
   ]
  },
  {
   "cell_type": "code",
   "execution_count": 64,
   "metadata": {},
   "outputs": [],
   "source": [
    "class InceptionLayer(nn.Module):\n",
    "    def __init__(self, in_channels, out_channels):\n",
    "        super(InceptionLayer,self).__init__()\n",
    "        self.layer_1_conv = nn.Conv2d(in_channels=in_channels, out_channels=out_channels[0], kernel_size=1, stride=1, padding=0)\n",
    "        \n",
    "        self.layer_3_conv = nn.Sequential(\n",
    "                                nn.Conv2d(in_channels=in_channels, out_channels=in_channels//2,  kernel_size=1, stride=1, padding=0),\n",
    "                                nn.Conv2d(in_channels=in_channels//2, out_channels=out_channels[1], kernel_size=3, stride=1, padding=1),\n",
    "                            )\n",
    "        \n",
    "        self.layer_5_conv = nn.Sequential(\n",
    "                                nn.Conv2d(in_channels=in_channels,   out_channels=in_channels//12, kernel_size=1, stride=1, padding=0),\n",
    "                                nn.Conv2d(in_channels=in_channels//12, out_channels=out_channels[2], kernel_size=5, stride=1, padding=2),\n",
    "                            )\n",
    "        \n",
    "        self.layer_pooling = nn.Sequential(\n",
    "                                nn.MaxPool2d(kernel_size=3, stride=1, padding=1),\n",
    "                                nn.Conv2d(in_channels=in_channels, out_channels=out_channels[3], kernel_size=1, stride=1, padding=0)\n",
    "                            )\n",
    "    \n",
    "    def forward(self, x):\n",
    "        return torch.cat((self.layer_1_conv(x),self.layer_3_conv(x),self.layer_5_conv(x),self.layer_pooling(x)), dim=1)\n",
    "    "
   ]
  },
  {
   "cell_type": "code",
   "execution_count": 65,
   "metadata": {},
   "outputs": [
    {
     "name": "stdout",
     "output_type": "stream",
     "text": [
      "torch.Size([64, 256, 28, 28])\n"
     ]
    }
   ],
   "source": [
    "modelInception = InceptionLayer(192,[64,128,32,32])\n",
    "x = torch.rand((64,192,28,28))\n",
    "\n",
    "pred = modelInception(x)\n",
    "print(pred.shape)"
   ]
  },
  {
   "cell_type": "code",
   "execution_count": 54,
   "metadata": {},
   "outputs": [],
   "source": [
    "# Note: Maximum pooling is used, unlike the original architecture where average pooling is used\n",
    "class InceptionModel(nn.Module):\n",
    "    def __init__(self):\n",
    "        super(InceptionModel,self).__init__()\n",
    "        self.lenet = nn.Sequential(\n",
    "                        nn.Conv2d(in_channels=1, out_channels=6,  kernel_size=5, stride=1, padding=2),\n",
    "                        nn.ReLU(inplace=True),\n",
    "                        nn.MaxPool2d(kernel_size=2,stride=2),\n",
    "                        nn.Conv2d(in_channels=6, out_channels=16, kernel_size=5, stride=1, padding=0),\n",
    "                        nn.ReLU(inplace=True),\n",
    "                        nn.MaxPool2d(kernel_size=2,stride=2),\n",
    "                        nn.Flatten(),\n",
    "                        nn.Linear(in_features=400, out_features=120),\n",
    "                        nn.ReLU(inplace=True),\n",
    "                        nn.Linear(in_features=120, out_features=84),\n",
    "                        nn.ReLU(inplace=True),\n",
    "                        nn.Linear(in_features=84,  out_features=10)\n",
    "                     )\n",
    "    def forward(self,x):\n",
    "        return self.lenet(x)"
   ]
  },
  {
   "cell_type": "code",
   "execution_count": 48,
   "metadata": {},
   "outputs": [],
   "source": [
    "def loss_function(pred, y):\n",
    "    return F.cross_entropy(pred, y)"
   ]
  },
  {
   "cell_type": "code",
   "execution_count": 49,
   "metadata": {},
   "outputs": [],
   "source": [
    "validation_losses = []\n",
    "def validate(model):\n",
    "    losses = []\n",
    "    \n",
    "    model.eval()\n",
    "    \n",
    "    with torch.no_grad():\n",
    "        for x_valid,y_valid in validation_dataloader:\n",
    "            x_valid = x_valid.to(device=device, dtype=torch.float32)\n",
    "            y_valid = y_valid.to(device=device, dtype=torch.long)\n",
    "            \n",
    "            pred = model(x_valid)\n",
    "            \n",
    "            loss = loss_function(pred,y_valid).item()\n",
    "            losses.append(loss)\n",
    "            \n",
    "    validation_losses.append(statistics.mean(losses))"
   ]
  },
  {
   "cell_type": "code",
   "execution_count": 50,
   "metadata": {},
   "outputs": [],
   "source": [
    "training_losses = []\n",
    "def training(model, optimiser):\n",
    "    for epoch in range(EPOCHS):\n",
    "        losses = []\n",
    "        model.train()\n",
    "        \n",
    "        for x_train, y_train in training_dataloader:\n",
    "            x_train = x_train.to(device=device, dtype=torch.float32)\n",
    "            y_train = y_train.to(device=device, dtype=torch.long)\n",
    "            \n",
    "            pred = model(x_train)\n",
    "            \n",
    "            loss = loss_function(pred,y_train)\n",
    "            losses.append(loss.item())\n",
    "            \n",
    "            optimiser.zero_grad()\n",
    "            loss.backward()\n",
    "            optimiser.step()\n",
    "            \n",
    "        mean_loss = statistics.mean(losses)\n",
    "        training_losses.append(mean_loss)\n",
    "        print(\"Epoch {}/{}, training loss = {:.2f}\".format(epoch+1, EPOCHS, mean_loss))\n",
    "        \n",
    "        validate(model)"
   ]
  },
  {
   "cell_type": "code",
   "execution_count": 51,
   "metadata": {},
   "outputs": [
    {
     "name": "stdout",
     "output_type": "stream",
     "text": [
      "Epoch 1/5, training loss = 0.25\n",
      "Epoch 2/5, training loss = 0.07\n",
      "Epoch 3/5, training loss = 0.05\n",
      "Epoch 4/5, training loss = 0.04\n",
      "Epoch 5/5, training loss = 0.03\n"
     ]
    },
    {
     "data": {
      "image/png": "[encoded data removed]",
      "text/plain": [
       "<Figure size 432x288 with 1 Axes>"
      ]
     },
     "metadata": {
      "needs_background": "light"
     },
     "output_type": "display_data"
    }
   ],
   "source": [
    "inceptionNetwork = InceptionModel()\n",
    "inceptionNetwork = inceptionNetwork.to(device=device)\n",
    "\n",
    "optimizer = optim.Adam(inceptionNetwork.parameters(), lr=LEARNING_RATE)\n",
    "\n",
    "training(inceptionNetwork, optimizer)\n",
    "\n",
    "plt.figure(0)\n",
    "plt.plot(list(range(1,EPOCHS+1)), training_losses, 'b')\n",
    "plt.plot(list(range(1,EPOCHS+1)), validation_losses, 'r')\n",
    "plt.xticks(list(range(1,EPOCHS+1)))\n",
    "plt.xlabel('Epoch')\n",
    "plt.ylabel('Loss')\n",
    "plt.legend(['Train loss','Validation loss'])\n",
    "plt.show()"
   ]
  },
  {
   "cell_type": "code",
   "execution_count": 52,
   "metadata": {},
   "outputs": [
    {
     "name": "stdout",
     "output_type": "stream",
     "text": [
      "Correct predictions 9892/10000, accuracy = 98.92%.\n"
     ]
    }
   ],
   "source": [
    "def testing(model):\n",
    "    model.eval()\n",
    "    \n",
    "    correct_preds = 0\n",
    "    total_preds = 0\n",
    "    \n",
    "    with torch.no_grad():\n",
    "        for x_test, y_test in testing_dataloader:\n",
    "            x_test = x_test.to(device=device, dtype=torch.float32)\n",
    "            y_test = y_test.to(device=device, dtype=torch.long)\n",
    "            \n",
    "            _,pred = model(x_test).max(1)\n",
    "            \n",
    "            correct_preds += (pred==y_test).sum()\n",
    "            total_preds   += pred.size(0)\n",
    "            \n",
    "    accuracy = 100 * torch.true_divide(correct_preds,total_preds)\n",
    "    print('Correct predictions {}/{}, accuracy = {:.2f}%.'.format(correct_preds, total_preds, accuracy))\n",
    "    \n",
    "testing(inceptionNetwork)"
   ]
  },
  {
   "cell_type": "code",
   "execution_count": null,
   "metadata": {},
   "outputs": [],
   "source": [
    "# Save weights if desired\n",
    "torch.save(inceptionNetwork.state_dict(), 'inceptionModel.pt')"
   ]
  },
  {
   "cell_type": "code",
   "execution_count": null,
   "metadata": {},
   "outputs": [],
   "source": []
  }
 ],
 "metadata": {
  "kernelspec": {
   "display_name": "Python 3",
   "language": "python",
   "name": "python3"
  },
  "language_info": {
   "codemirror_mode": {
    "name": "ipython",
    "version": 3
   },
   "file_extension": ".py",
   "mimetype": "text/x-python",
   "name": "python",
   "nbconvert_exporter": "python",
   "pygments_lexer": "ipython3",
   "version": "3.7.9"
  }
 },
 "nbformat": 4,
 "nbformat_minor": 4
}
