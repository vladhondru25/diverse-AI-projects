{
  "nbformat": 4,
  "nbformat_minor": 0,
  "metadata": {
    "kernelspec": {
      "display_name": "Python 3",
      "language": "python",
      "name": "python3"
    },
    "language_info": {
      "codemirror_mode": {
        "name": "ipython",
        "version": 3
      },
      "file_extension": ".py",
      "mimetype": "text/x-python",
      "name": "python",
      "nbconvert_exporter": "python",
      "pygments_lexer": "ipython3",
      "version": "3.7.9"
    },
    "colab": {
      "name": "LeNet5-PyTorch.ipynb",
      "provenance": []
    },
    "accelerator": "GPU"
  },
  "cells": [
    {
      "cell_type": "code",
      "metadata": {
        "id": "wnJLKpgCI-o2"
      },
      "source": [
        "import math\n",
        "import statistics\n",
        "import numpy as np\n",
        "import matplotlib.pyplot as plt\n",
        "\n",
        "import torch\n",
        "import torch.nn as nn\n",
        "import torch.nn.functional as F\n",
        "import torch.optim as optim\n",
        "from torch.utils.data import Dataset, DataLoader, sampler\n",
        "from torchvision import datasets, transforms as T"
      ],
      "execution_count": 1,
      "outputs": []
    },
    {
      "cell_type": "code",
      "metadata": {
        "id": "63mKMQ5lI-o2"
      },
      "source": [
        "# Define the hyperparameters\n",
        "LEARNING_RATE = 1e-3\n",
        "BATCH_SIZE = 64\n",
        "EPOCHS = 10\n",
        "VAL_SIZE = 10 # In percentage\n",
        "\n",
        "R_MEAN = 0.4914\n",
        "G_MEAN = 0.4822\n",
        "B_MEAN = 0.4465\n",
        "R_STD = 0.2023\n",
        "G_STD = 0.1994\n",
        "B_STD = 0.2010"
      ],
      "execution_count": 44,
      "outputs": []
    },
    {
      "cell_type": "code",
      "metadata": {
        "colab": {
          "base_uri": "https://localhost:8080/"
        },
        "id": "wPg5yIH5I-o2",
        "outputId": "60161d32-df0c-4c33-b3dc-a617b10ef7ce"
      },
      "source": [
        "use_cuda = torch.cuda.is_available()\n",
        "device = torch.device('cuda' if use_cuda else 'cpu')\n",
        "print(\"Using GPU: {}\".format(use_cuda))"
      ],
      "execution_count": 45,
      "outputs": [
        {
          "output_type": "stream",
          "text": [
            "Using GPU: True\n"
          ],
          "name": "stdout"
        }
      ]
    },
    {
      "cell_type": "code",
      "metadata": {
        "id": "Je0bWrm2I-o3"
      },
      "source": [
        "# Set seed during training for reproducibility\n",
        "# torch.manual_seed(0)\n",
        "# if use_cuda:\n",
        "#     torch.cuda.manual_seed(0)"
      ],
      "execution_count": 46,
      "outputs": []
    },
    {
      "cell_type": "code",
      "metadata": {
        "id": "EYFKh6rBI-o4"
      },
      "source": [
        "# Normalise the dataset\n",
        "transform = T.Compose([\n",
        "                T.ToTensor(),\n",
        "                T.Normalize((R_MEAN, G_MEAN, B_MEAN), (R_STD, G_STD, B_STD))\n",
        "            ])\n",
        "# Augement and normalise the dataset\n",
        "transform_aug = T.Compose([\n",
        "                  T.RandomCrop(32, padding=4),\n",
        "                  T.RandomHorizontalFlip(p=0.5),\n",
        "                  T.ToTensor(),\n",
        "                  T.Normalize((R_MEAN, G_MEAN, B_MEAN), (R_STD, G_STD, B_STD))\n",
        "                ])"
      ],
      "execution_count": 47,
      "outputs": []
    },
    {
      "cell_type": "code",
      "metadata": {
        "colab": {
          "base_uri": "https://localhost:8080/"
        },
        "id": "_XkzQ35DI-o4",
        "outputId": "ad369bac-7c82-4d7e-8a1f-a38bae8f2d91"
      },
      "source": [
        "training_dataset = datasets.CIFAR10(root='data/', train=True,  transform=transform, download=True)\n",
        "testing_dataset  = datasets.CIFAR10(root='data/', train=False, transform=transform, download=True)\n",
        "\n",
        "split_point = math.floor( (100-VAL_SIZE) * len(training_dataset) / 100) \n",
        "indices = list(range(len(training_dataset)))\n",
        "\n",
        "training_dataloader   = torch.utils.data.DataLoader(training_dataset, batch_size=BATCH_SIZE, \n",
        "                                                    sampler=torch.utils.data.SubsetRandomSampler(indices[:split_point],))\n",
        "                                                                                                #  generator = torch.Generator().manual_seed(0)))\n",
        "validation_dataloader = torch.utils.data.DataLoader(training_dataset, batch_size=BATCH_SIZE, \n",
        "                                                    sampler=torch.utils.data.SubsetRandomSampler(indices[split_point:],))\n",
        "                                                                                                #  generator = torch.Generator().manual_seed(0)))\n",
        "testing_dataloader    = torch.utils.data.DataLoader(testing_dataset,  batch_size=BATCH_SIZE, shuffle=False)"
      ],
      "execution_count": 48,
      "outputs": [
        {
          "output_type": "stream",
          "text": [
            "Files already downloaded and verified\n",
            "Files already downloaded and verified\n"
          ],
          "name": "stdout"
        }
      ]
    },
    {
      "cell_type": "code",
      "metadata": {
        "id": "AeRuKNxrI-o4"
      },
      "source": [
        "class ConvLayer(nn.Module):\n",
        "    def __init__(self, in_channels, out_channels, **kwargs):\n",
        "        super(ConvLayer,self).__init__()\n",
        "        self.conv_layer = nn.Sequential(\n",
        "                            nn.Conv2d(in_channels=in_channels, out_channels=out_channels, **kwargs, bias=False),\n",
        "                            nn.BatchNorm2d(out_channels),\n",
        "                            nn.ReLU(inplace=True)\n",
        "                          )\n",
        "\n",
        "    def forward(self, x):\n",
        "        return self.conv_layer(x)\n",
        "\n",
        "class InceptionLayer(nn.Module):\n",
        "    def __init__(self, in_channels, out_channels):\n",
        "        super(InceptionLayer,self).__init__()\n",
        "        self.layer_1_conv = ConvLayer(in_channels=in_channels, out_channels=out_channels[0], kernel_size=1, stride=1, padding=0)\n",
        "        \n",
        "        self.layer_3_conv = nn.Sequential(\n",
        "                                ConvLayer(in_channels=in_channels,    out_channels=in_channels//2,  kernel_size=1, stride=1, padding=0),\n",
        "                                ConvLayer(in_channels=in_channels//2, out_channels=out_channels[1], kernel_size=3, stride=1, padding=1),\n",
        "                            )\n",
        "        \n",
        "        self.layer_5_conv = nn.Sequential(\n",
        "                                ConvLayer(in_channels=in_channels,     out_channels=in_channels//12, kernel_size=1, stride=1, padding=0),\n",
        "                                ConvLayer(in_channels=in_channels//12, out_channels=out_channels[2], kernel_size=5, stride=1, padding=2),\n",
        "                            )\n",
        "        \n",
        "        self.layer_pooling = nn.Sequential(\n",
        "                                nn.MaxPool2d(kernel_size=3, stride=1, padding=1),\n",
        "                                ConvLayer(in_channels=in_channels, out_channels=out_channels[3], kernel_size=1, stride=1, padding=0)\n",
        "                            )\n",
        "    \n",
        "    def forward(self, x):\n",
        "        return torch.cat((self.layer_1_conv(x),self.layer_3_conv(x),self.layer_5_conv(x),self.layer_pooling(x)), dim=1)"
      ],
      "execution_count": 49,
      "outputs": []
    },
    {
      "cell_type": "code",
      "metadata": {
        "id": "wKv0L_iLI-o5"
      },
      "source": [
        "# Note: Maximum pooling is used, unlike the original architecture where average pooling is used\n",
        "class InceptionModel(nn.Module):\n",
        "    def __init__(self):\n",
        "        super(InceptionModel,self).__init__()\n",
        "        self.lenet = nn.Sequential(\n",
        "                        nn.Conv2d(in_channels=3, out_channels=64,  kernel_size=3, stride=1, padding=0),\n",
        "                        nn.BatchNorm2d(64),\n",
        "                        nn.ReLU(inplace=True),\n",
        "                        nn.MaxPool2d(kernel_size=2, stride=2),\n",
        "            \n",
        "                        nn.Conv2d(in_channels=64, out_channels=128,  kernel_size=3, stride=1, padding=0),\n",
        "                        nn.BatchNorm2d(128),\n",
        "                        nn.ReLU(inplace=True),\n",
        "            \n",
        "                        InceptionLayer(in_channels=128,          out_channels=[64,128,32,32]),\n",
        "            \n",
        "                        nn.MaxPool2d(kernel_size=2,stride=2),\n",
        "            \n",
        "                        InceptionLayer(in_channels=64+128+32+32, out_channels=[128,256,64,64]),\n",
        "            \n",
        "                        nn.AvgPool2d(kernel_size=5,stride=2),\n",
        "                        nn.Dropout(p=0.5),\n",
        "            \n",
        "                        nn.Flatten(),\n",
        "                        nn.Linear(in_features=512,  out_features=10)\n",
        "                     )\n",
        "    def forward(self,x):\n",
        "        return self.lenet(x)"
      ],
      "execution_count": 50,
      "outputs": []
    },
    {
      "cell_type": "code",
      "metadata": {
        "id": "ZuFPyBteI-o5"
      },
      "source": [
        "def loss_function(pred, y):\n",
        "    return F.cross_entropy(pred, y)"
      ],
      "execution_count": 51,
      "outputs": []
    },
    {
      "cell_type": "code",
      "metadata": {
        "id": "nNsPaQW2I-o5"
      },
      "source": [
        "validation_losses = []\n",
        "def validate(model):\n",
        "    losses = []\n",
        "    \n",
        "    model.eval()\n",
        "    \n",
        "    with torch.no_grad():\n",
        "        for x_valid,y_valid in validation_dataloader:\n",
        "            x_valid = x_valid.to(device=device, dtype=torch.float32)\n",
        "            y_valid = y_valid.to(device=device, dtype=torch.long)\n",
        "            \n",
        "            pred = model(x_valid)\n",
        "            \n",
        "            loss = loss_function(pred,y_valid).item()\n",
        "            losses.append(loss)\n",
        "            \n",
        "    validation_losses.append(statistics.mean(losses))"
      ],
      "execution_count": 52,
      "outputs": []
    },
    {
      "cell_type": "code",
      "metadata": {
        "id": "CvRRylLEI-o5"
      },
      "source": [
        "training_losses = []\n",
        "def training(model, optimiser):\n",
        "    for epoch in range(EPOCHS):\n",
        "        losses = []\n",
        "        model.train()\n",
        "        \n",
        "        for x_train, y_train in training_dataloader:\n",
        "            x_train = x_train.to(device=device, dtype=torch.float32)\n",
        "            y_train = y_train.to(device=device, dtype=torch.long)\n",
        "            \n",
        "            pred = model(x_train)\n",
        "            \n",
        "            loss = loss_function(pred,y_train)\n",
        "            losses.append(loss.item())\n",
        "            \n",
        "            optimiser.zero_grad()\n",
        "            loss.backward()\n",
        "            optimiser.step()\n",
        "            \n",
        "        mean_loss = statistics.mean(losses)\n",
        "        training_losses.append(mean_loss)\n",
        "        print(\"Epoch {}/{}, training loss = {:.2f}\".format(epoch+1, EPOCHS, mean_loss))\n",
        "        \n",
        "        validate(model)"
      ],
      "execution_count": 53,
      "outputs": []
    },
    {
      "cell_type": "code",
      "metadata": {
        "colab": {
          "base_uri": "https://localhost:8080/",
          "height": 449
        },
        "id": "x9SuGt9uI-o5",
        "outputId": "d76215ae-cb58-4b10-e4d2-43e8869ad08e"
      },
      "source": [
        "inceptionNetwork = InceptionModel()\n",
        "inceptionNetwork = inceptionNetwork.to(device=device)\n",
        "\n",
        "optimizer = optim.Adam(inceptionNetwork.parameters(), lr=LEARNING_RATE)\n",
        "\n",
        "training(inceptionNetwork, optimizer)\n",
        "\n",
        "plt.figure(0)\n",
        "plt.plot(list(range(1,EPOCHS+1)), training_losses, 'b')\n",
        "plt.plot(list(range(1,EPOCHS+1)), validation_losses, 'r')\n",
        "plt.xticks(list(range(1,EPOCHS+1)))\n",
        "plt.xlabel('Epoch')\n",
        "plt.ylabel('Loss')\n",
        "plt.legend(['Train loss','Validation loss'])\n",
        "plt.show()"
      ],
      "execution_count": 54,
      "outputs": [
        {
          "output_type": "stream",
          "text": [
            "Epoch 1/10, training loss = 1.23\n",
            "Epoch 2/10, training loss = 0.86\n",
            "Epoch 3/10, training loss = 0.70\n",
            "Epoch 4/10, training loss = 0.60\n",
            "Epoch 5/10, training loss = 0.53\n",
            "Epoch 6/10, training loss = 0.47\n",
            "Epoch 7/10, training loss = 0.41\n",
            "Epoch 8/10, training loss = 0.37\n",
            "Epoch 9/10, training loss = 0.33\n",
            "Epoch 10/10, training loss = 0.29\n"
          ],
          "name": "stdout"
        },
        {
          "output_type": "display_data",
          "data": {
            "image/png": "[encoded data removed]",
            "text/plain": [
              "<Figure size 432x288 with 1 Axes>"
            ]
          },
          "metadata": {
            "tags": [],
            "needs_background": "light"
          }
        }
      ]
    },
    {
      "cell_type": "code",
      "metadata": {
        "colab": {
          "base_uri": "https://localhost:8080/"
        },
        "id": "NThlwhLuI-o5",
        "outputId": "b14b97b5-3ade-4999-8ee8-5ab34bf80bc9"
      },
      "source": [
        "def testing(model):\n",
        "    model.eval()\n",
        "    \n",
        "    correct_preds = 0\n",
        "    total_preds = 0\n",
        "    \n",
        "    with torch.no_grad():\n",
        "        for x_test, y_test in testing_dataloader:\n",
        "            x_test = x_test.to(device=device, dtype=torch.float32)\n",
        "            y_test = y_test.to(device=device, dtype=torch.long)\n",
        "            \n",
        "            _,pred = model(x_test).max(1)\n",
        "            \n",
        "            correct_preds += (pred==y_test).sum()\n",
        "            total_preds   += pred.size(0)\n",
        "            \n",
        "    accuracy = 100 * torch.true_divide(correct_preds,total_preds)\n",
        "    print('Correct predictions {}/{}, accuracy = {:.2f}%.'.format(correct_preds, total_preds, accuracy))\n",
        "    \n",
        "testing(inceptionNetwork)"
      ],
      "execution_count": 55,
      "outputs": [
        {
          "output_type": "stream",
          "text": [
            "Correct predictions 8282/10000, accuracy = 82.82%.\n"
          ],
          "name": "stdout"
        }
      ]
    },
    {
      "cell_type": "code",
      "metadata": {
        "id": "IlIYDiseI-o5"
      },
      "source": [
        "# Save weights if desired\n",
        "# torch.save(inceptionNetwork.state_dict(), 'inceptionModel.pt')"
      ],
      "execution_count": null,
      "outputs": []
    },
    {
      "cell_type": "code",
      "metadata": {
        "id": "KH-4AhFzI-o5"
      },
      "source": [],
      "execution_count": null,
      "outputs": []
    }
  ]
}