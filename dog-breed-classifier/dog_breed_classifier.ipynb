{
  "cells": [
    {
      "cell_type": "code",
      "execution_count": 1,
      "metadata": {
        "colab": {
          "base_uri": "https://localhost:8080/"
        },
        "id": "-hyMIuvzNXI4",
        "outputId": "6afa0997-f769-43a4-bb1a-21acb30bfc0b"
      },
      "outputs": [
        {
          "output_type": "stream",
          "name": "stdout",
          "text": [
            "Mounted at /content/drive\n"
          ]
        }
      ],
      "source": [
        "from google.colab import drive\n",
        "drive.mount('/content/drive')"
      ]
    },
    {
      "cell_type": "code",
      "execution_count": null,
      "metadata": {
        "id": "vn-qvhgJNXI7"
      },
      "outputs": [],
      "source": [
        "!unzip \"/content/drive/MyDrive/data.zip\" -d \".\""
      ]
    },
    {
      "cell_type": "code",
      "execution_count": 3,
      "metadata": {
        "id": "yTE6VRArNXI7"
      },
      "outputs": [],
      "source": [
        "import os\n",
        "import matplotlib.pyplot as plt\n",
        "import numpy as np\n",
        "from PIL import Image, ImageFile\n",
        "from statistics import mean\n",
        "\n",
        "import torch\n",
        "import torch.optim as optim\n",
        "import torchvision.transforms as T\n",
        "from torch.utils.data import Dataset, DataLoader\n",
        "from torchvision.models import resnet50\n",
        "\n",
        "ImageFile.LOAD_TRUNCATED_IMAGES = True"
      ]
    },
    {
      "cell_type": "code",
      "execution_count": 4,
      "metadata": {
        "id": "lYPQksSFNXI8",
        "colab": {
          "base_uri": "https://localhost:8080/"
        },
        "outputId": "ee317a27-d7c1-4d77-af30-c1c2cace4d95"
      },
      "outputs": [
        {
          "output_type": "stream",
          "name": "stdout",
          "text": [
            "Using cuda\n"
          ]
        }
      ],
      "source": [
        "# Constants\n",
        "EPOCHS = 5\n",
        "BATCH_SIZE = 32\n",
        "\n",
        "device = torch.device('cpu')\n",
        "if torch.cuda.is_available():\n",
        "    device = torch.device('cuda')\n",
        "print(f'Using {device}')"
      ]
    },
    {
      "cell_type": "code",
      "source": [
        "# Set seed during training for reproducibility\n",
        "torch.manual_seed(0)\n",
        "if torch.cuda.is_available():\n",
        "    torch.cuda.manual_seed(0)"
      ],
      "metadata": {
        "id": "CrClnzItXet0"
      },
      "execution_count": 5,
      "outputs": []
    },
    {
      "cell_type": "code",
      "execution_count": 6,
      "metadata": {
        "id": "XfESQ-4wNXI8"
      },
      "outputs": [],
      "source": [
        "ID_TO_BREED = {}\n",
        "\n",
        "for dog_folder in os.listdir('data/train'):\n",
        "    dog_id, dog_name = dog_folder.split('.')\n",
        "    dog_id = int(dog_id)-1\n",
        "    \n",
        "    ID_TO_BREED[dog_id] = dog_name"
      ]
    },
    {
      "cell_type": "code",
      "execution_count": 7,
      "metadata": {
        "id": "a3XEiLyRNXI9"
      },
      "outputs": [],
      "source": [
        "class DogDataset(Dataset):\n",
        "    def __init__(self, folder, transform = None):\n",
        "        self.images_path = []\n",
        "        self.labels = []\n",
        "        \n",
        "        self.transform = transform\n",
        "        \n",
        "        for dog_folder in os.listdir(os.path.join('data',folder)):\n",
        "            dog_id, _ = dog_folder.split('.')\n",
        "            \n",
        "            dog_id = int(dog_id)-1\n",
        "            \n",
        "            for dog_file in os.listdir(os.path.join('data',folder,dog_folder)):\n",
        "                file_path = os.path.join('data',folder,dog_folder,dog_file)\n",
        "                \n",
        "                self.images_path.append(file_path)\n",
        "                self.labels.append(dog_id)\n",
        "        \n",
        "    def __len__(self):\n",
        "        return len(self.images_path)\n",
        "    \n",
        "    def __getitem__(self, idx):\n",
        "        image = Image.open(self.images_path[idx]).convert('RGB')\n",
        "        \n",
        "        label = self.labels[idx]\n",
        "\n",
        "        if self.transform:\n",
        "            image = self.transform(image)\n",
        "        \n",
        "        return image, label\n",
        "    \n",
        "def my_collator(batch):\n",
        "    \"\"\"\n",
        "    In: O lista, in care fiecare element e un tuple ce contine imaginea+label\n",
        "    list[tuple()] -> no_of_batches x 2, (2 = image + label)\n",
        "    Out: 2 tensori, unul cu imaginile, unul cu labelurile\n",
        "    \"\"\"\n",
        "    batch_size = len(batch)\n",
        "    image_size = batch[0][0].shape\n",
        "    \n",
        "    images = torch.zeros((batch_size,*image_size))\n",
        "    labels = torch.zeros(batch_size)\n",
        "    \n",
        "    for i in range(len(batch)):\n",
        "        images[i] = batch[i][0]\n",
        "        labels[i] = batch[i][1]\n",
        "        \n",
        "    return images,labels"
      ]
    },
    {
      "cell_type": "code",
      "execution_count": 8,
      "metadata": {
        "id": "gBCrxegLNXI-"
      },
      "outputs": [],
      "source": [
        "# Create datasets and dataloaders\n",
        "transforms_augmented = T.Compose([\n",
        "    T.Resize((224,224)),\n",
        "    T.CenterCrop((224,224)),\n",
        "    T.RandomHorizontalFlip(p=0.5),\n",
        "    T.RandomRotation(degrees=10),\n",
        "    # T.ColorJitter(brightness=0.5, hue=0.3),\n",
        "    T.ToTensor(),\n",
        "    T.Normalize((0.485, 0.456, 0.406), (0.229, 0.224, 0.225)),\n",
        "])\n",
        "transforms = T.Compose([\n",
        "    T.Resize((224,224)),\n",
        "    T.ToTensor(),\n",
        "    T.Normalize((0.485, 0.456, 0.406), (0.229, 0.224, 0.225)),\n",
        "])\n",
        "\n",
        "# Training\n",
        "train_dataset = DogDataset('train', transform=transforms_augmented)\n",
        "train_dataloader = DataLoader(train_dataset, batch_size=BATCH_SIZE, collate_fn=my_collator, shuffle=True)\n",
        "\n",
        "# Validation\n",
        "valid_dataset = DogDataset('valid', transform=transforms)\n",
        "valid_dataloader = DataLoader(valid_dataset, batch_size=BATCH_SIZE, collate_fn=my_collator)\n",
        "\n",
        "# Testing\n",
        "test_dataset = DogDataset('test', transform=transforms)\n",
        "test_dataloader = DataLoader(test_dataset, batch_size=BATCH_SIZE, collate_fn=my_collator)\n",
        "\n",
        "# _ = next(train_dataloader.__iter__())  # images: torch.Size([4, 3, 224, 224]), labels"
      ]
    },
    {
      "cell_type": "code",
      "execution_count": 9,
      "metadata": {
        "id": "b3WVDNbRNXI_"
      },
      "outputs": [],
      "source": [
        "class CustomResnet(torch.nn.Module):\n",
        "    def __init__(self, no_classes, device):\n",
        "        super().__init__()\n",
        "        \n",
        "        self.model = resnet50(pretrained=True)\n",
        "        \n",
        "        no_in_ftrs_fc = self.model.fc.in_features\n",
        "        \n",
        "        self.model.fc = torch.nn.Linear(in_features=no_in_ftrs_fc, out_features=no_classes)\n",
        "        \n",
        "        self.device = device\n",
        "        # self.model.to(device=device)\n",
        "\n",
        "        self.criterion = torch.nn.CrossEntropyLoss()\n",
        "        self.optimizer = optim.Adam(self.model.fc.parameters(), lr=0.001)\n",
        "        \n",
        "    def forward(self, x):\n",
        "        return self.model(x)\n",
        "\n",
        "    def calculate_loss(self, preds, target):\n",
        "        return self.criterion(preds, target)\n",
        "\n",
        "    def back_propagate(self, loss): \n",
        "        self.optimizer.zero_grad()\n",
        "        \n",
        "        loss.backward()\n",
        "        \n",
        "        self.optimizer.step()\n",
        "\n",
        "    def predict(self, image):\n",
        "        image = image.unsqueeze(0)\n",
        "        self.model.eval()\n",
        "        \n",
        "        with torch.no_grad():\n",
        "            pred = self.model(image)\n",
        "            return int(torch.argmax(pred).item())\n",
        "        \n",
        "    def evaluate(self, dataloader):\n",
        "        self.model.eval()\n",
        "        \n",
        "        losses = []\n",
        "        total = 0\n",
        "        correct = 0\n",
        "        \n",
        "        with torch.no_grad():\n",
        "            for step, (images,labels) in enumerate(dataloader):\n",
        "                images = images.to(device, dtype=torch.float32)\n",
        "                labels = labels.to(device, dtype=torch.long)\n",
        "                \n",
        "                logits = self.forward(images)\n",
        "                loss = self.calculate_loss(logits, labels)\n",
        "                \n",
        "                preds = torch.argmax(logits, 1)\n",
        "                correct += (torch.sum(preds == labels)).item()\n",
        "                total += len(labels)\n",
        "                \n",
        "                losses.append(loss.item())\n",
        "                \n",
        "        accuracy = round(100 * correct / total, 2)\n",
        "                \n",
        "        return round(mean(losses),3), accuracy\n",
        "        \n",
        "    def train(self): \n",
        "        self.model.train()\n",
        "        \n",
        "    def eval(self):\n",
        "        self.model.eval()"
      ]
    },
    {
      "cell_type": "code",
      "execution_count": 10,
      "metadata": {
        "id": "2Xd8vfIMNXJA",
        "colab": {
          "base_uri": "https://localhost:8080/",
          "height": 67,
          "referenced_widgets": [
            "e372632c06004438ab8238217e8d0f9f",
            "a00ee6be2a40465b9de10f9720fea485",
            "78cb22e614044ce7bbd7ea30aeaa1727",
            "565bf01ea0cd43a7907cff0ef2e5d00a",
            "8d96b16b0ed14db290676873dd250f1c",
            "7b056bb5b5944c65b3138dfc9f2e4130",
            "8f4e4f0ea6704717b3e3a6419a81b203",
            "2bb2d1477dd7426280245b9ae629965d",
            "3032111d345a448891f5ed327f1e8302",
            "0a45fdd8cb32403e8ecb16a001caa791",
            "92eba74ee3324586adbbe877979fdd09"
          ]
        },
        "outputId": "bcee7dcf-cfed-4046-cad5-1cd666addf4d"
      },
      "outputs": [
        {
          "output_type": "stream",
          "name": "stderr",
          "text": [
            "Downloading: \"https://download.pytorch.org/models/resnet50-0676ba61.pth\" to /root/.cache/torch/hub/checkpoints/resnet50-0676ba61.pth\n"
          ]
        },
        {
          "output_type": "display_data",
          "data": {
            "text/plain": [
              "  0%|          | 0.00/97.8M [00:00<?, ?B/s]"
            ],
            "application/vnd.jupyter.widget-view+json": {
              "version_major": 2,
              "version_minor": 0,
              "model_id": "e372632c06004438ab8238217e8d0f9f"
            }
          },
          "metadata": {}
        }
      ],
      "source": [
        "model = CustomResnet(no_classes=len(ID_TO_BREED), device=device)\n",
        "model = model.to(device=device)"
      ]
    },
    {
      "cell_type": "code",
      "source": [
        "losses = []\n",
        "print('Start training')\n",
        "for epoch in range(EPOCHS):\n",
        "    for step, (images,labels) in enumerate(train_dataloader):\n",
        "        model.train()\n",
        "        \n",
        "        images = images.to(device, dtype=torch.float32)\n",
        "        labels = labels.to(device, dtype=torch.long)\n",
        "\n",
        "        logits = model.forward(images)\n",
        "        loss = model.calculate_loss(logits, labels)\n",
        "        model.back_propagate(loss)\n",
        "\n",
        "        print(f'\\rEpoch {epoch:<2} / Step {step:<3}: training_loss = {loss.item(): <4}', end='')\n",
        "        if step % 50 == 0:\n",
        "            model.eval()\n",
        "            valid_loss, valid_accuracy = model.evaluate(valid_dataloader)\n",
        "            \n",
        "            print(f'\\n\\rEpoch {epoch:<2} / Step {step:<3}: acc = {valid_accuracy:>2}% loss = {valid_loss: <4}')\n",
        "            \n",
        "            losses.append((loss.item(), valid_loss))"
      ],
      "metadata": {
        "colab": {
          "base_uri": "https://localhost:8080/"
        },
        "id": "sD5iG4xxQZbS",
        "outputId": "c7159090-7e07-4020-916c-26347c0dfafe"
      },
      "execution_count": 11,
      "outputs": [
        {
          "output_type": "stream",
          "name": "stdout",
          "text": [
            "Start training\n",
            "Epoch 0  / Step 0  : training_loss = 4.908907413482666\n",
            "Epoch 0  / Step 0  : acc = 2.04% loss = 5.181\n",
            "Epoch 0  / Step 50 : training_loss = 2.850318670272827\n",
            "Epoch 0  / Step 50 : acc = 48.38% loss = 2.536\n",
            "Epoch 0  / Step 100: training_loss = 1.7367615699768066\n",
            "Epoch 0  / Step 100: acc = 63.95% loss = 1.591\n",
            "Epoch 0  / Step 150: training_loss = 1.2850407361984253\n",
            "Epoch 0  / Step 150: acc = 71.98% loss = 1.11\n",
            "Epoch 0  / Step 200: training_loss = 0.9839314222335815\n",
            "Epoch 0  / Step 200: acc = 74.49% loss = 0.98\n",
            "Epoch 1  / Step 0  : training_loss = 0.6657920479774475\n",
            "Epoch 1  / Step 0  : acc = 75.81% loss = 0.946\n",
            "Epoch 1  / Step 50 : training_loss = 0.49924740195274353\n",
            "Epoch 1  / Step 50 : acc = 76.77% loss = 0.867\n",
            "Epoch 1  / Step 100: training_loss = 0.79439377784729\n",
            "Epoch 1  / Step 100: acc = 76.53% loss = 0.845\n",
            "Epoch 1  / Step 150: training_loss = 0.5041460394859314\n",
            "Epoch 1  / Step 150: acc = 77.96% loss = 0.771\n",
            "Epoch 1  / Step 200: training_loss = 0.6319040060043335\n",
            "Epoch 1  / Step 200: acc = 75.09% loss = 0.771\n",
            "Epoch 2  / Step 0  : training_loss = 0.5842326283454895\n",
            "Epoch 2  / Step 0  : acc = 78.44% loss = 0.749\n",
            "Epoch 2  / Step 50 : training_loss = 0.36877232789993286\n",
            "Epoch 2  / Step 50 : acc = 78.68% loss = 0.706\n",
            "Epoch 2  / Step 100: training_loss = 0.43899741768836975\n",
            "Epoch 2  / Step 100: acc = 78.92% loss = 0.728\n",
            "Epoch 2  / Step 150: training_loss = 0.5498166084289551\n",
            "Epoch 2  / Step 150: acc = 79.88% loss = 0.675\n",
            "Epoch 2  / Step 200: training_loss = 0.7263689637184143\n",
            "Epoch 2  / Step 200: acc = 80.24% loss = 0.64\n",
            "Epoch 3  / Step 0  : training_loss = 0.4544173777103424\n",
            "Epoch 3  / Step 0  : acc = 78.68% loss = 0.701\n",
            "Epoch 3  / Step 50 : training_loss = 0.5008050203323364\n",
            "Epoch 3  / Step 50 : acc = 79.76% loss = 0.678\n",
            "Epoch 3  / Step 100: training_loss = 0.42479345202445984\n",
            "Epoch 3  / Step 100: acc = 81.2% loss = 0.597\n",
            "Epoch 3  / Step 150: training_loss = 0.5229947566986084\n",
            "Epoch 3  / Step 150: acc = 80.84% loss = 0.638\n",
            "Epoch 3  / Step 200: training_loss = 0.27054351568222046\n",
            "Epoch 3  / Step 200: acc = 78.44% loss = 0.698\n",
            "Epoch 4  / Step 0  : training_loss = 0.4660128951072693\n",
            "Epoch 4  / Step 0  : acc = 81.08% loss = 0.654\n",
            "Epoch 4  / Step 50 : training_loss = 0.32284116744995117\n",
            "Epoch 4  / Step 50 : acc = 81.68% loss = 0.61\n",
            "Epoch 4  / Step 100: training_loss = 0.43111124634742737\n",
            "Epoch 4  / Step 100: acc = 80.84% loss = 0.608\n",
            "Epoch 4  / Step 150: training_loss = 0.47341248393058777\n",
            "Epoch 4  / Step 150: acc = 81.08% loss = 0.618\n",
            "Epoch 4  / Step 200: training_loss = 0.4625954031944275\n",
            "Epoch 4  / Step 200: acc = 81.56% loss = 0.549\n",
            "Epoch 4  / Step 208: training_loss = 0.5699940323829651"
          ]
        }
      ]
    },
    {
      "cell_type": "code",
      "source": [
        "test_loss, test_accuracy = model.evaluate(test_dataloader)\n",
        "            \n",
        "print(f'acc = {test_accuracy:>2}% loss = {test_loss: <4}')"
      ],
      "metadata": {
        "colab": {
          "base_uri": "https://localhost:8080/"
        },
        "id": "MjoaLmSAjwMT",
        "outputId": "7a88ba59-b2ce-4e7d-dac1-b597c5779831"
      },
      "execution_count": 13,
      "outputs": [
        {
          "output_type": "stream",
          "name": "stdout",
          "text": [
            "acc = 81.7% loss = 0.599\n"
          ]
        }
      ]
    },
    {
      "cell_type": "code",
      "execution_count": 16,
      "metadata": {
        "id": "9QQs0muUNXJB",
        "colab": {
          "base_uri": "https://localhost:8080/"
        },
        "outputId": "efdbbe07-4d69-45f2-e4ca-cc9abffa68fe"
      },
      "outputs": [
        {
          "output_type": "stream",
          "name": "stdout",
          "text": [
            "pred=60, label=60\n"
          ]
        }
      ],
      "source": [
        "img,lab = test_dataset[52]\n",
        "\n",
        "img = img.to(device=device)\n",
        "\n",
        "pred = model.predict(img)\n",
        "print(f'pred={pred}, label={lab}')"
      ]
    },
    {
      "cell_type": "code",
      "execution_count": 15,
      "metadata": {
        "id": "BtqXtoEBNXJB",
        "colab": {
          "base_uri": "https://localhost:8080/",
          "height": 287
        },
        "outputId": "2266a617-29c7-449e-dfea-59b3533e4f1a"
      },
      "outputs": [
        {
          "output_type": "stream",
          "name": "stderr",
          "text": [
            "Clipping input data to the valid range for imshow with RGB data ([0..1] for floats or [0..255] for integers).\n"
          ]
        },
        {
          "output_type": "display_data",
          "data": {
            "text/plain": [
              "<Figure size 432x288 with 1 Axes>"
            ],
            "image/png": "[encoded data removed]"
          },
          "metadata": {
            "needs_background": "light"
          }
        }
      ],
      "source": [
        "image, label = test_dataset[52]\n",
        "\n",
        "plt.imshow(torch.permute(image, (1,2,0)))\n",
        "plt.show()"
      ]
    },
    {
      "cell_type": "code",
      "source": [
        ""
      ],
      "metadata": {
        "id": "43ZCItrZkBqI"
      },
      "execution_count": null,
      "outputs": []
    }
  ],
  "metadata": {
    "accelerator": "GPU",
    "colab": {
      "name": "dog-breed-classifier.ipynb",
      "provenance": [],
      "collapsed_sections": []
    },
    "interpreter": {
      "hash": "31f2aee4e71d21fbe5cf8b01ff0e069b9275f58929596ceb00d14d90e3e16cd6"
    },
    "kernelspec": {
      "display_name": "Python 3.8.9 64-bit",
      "language": "python",
      "name": "python3"
    },
    "language_info": {
      "codemirror_mode": {
        "name": "ipython",
        "version": 3
      },
      "file_extension": ".py",
      "mimetype": "text/x-python",
      "name": "python",
      "nbconvert_exporter": "python",
      "pygments_lexer": "ipython3",
      "version": "3.9.9"
    },
    "widgets": {
      "application/vnd.jupyter.widget-state+json": {
        "e372632c06004438ab8238217e8d0f9f": {
          "model_module": "@jupyter-widgets/controls",
          "model_name": "HBoxModel",
          "model_module_version": "1.5.0",
          "state": {
            "_dom_classes": [],
            "_model_module": "@jupyter-widgets/controls",
            "_model_module_version": "1.5.0",
            "_model_name": "HBoxModel",
            "_view_count": null,
            "_view_module": "@jupyter-widgets/controls",
            "_view_module_version": "1.5.0",
            "_view_name": "HBoxView",
            "box_style": "",
            "children": [
              "IPY_MODEL_a00ee6be2a40465b9de10f9720fea485",
              "IPY_MODEL_78cb22e614044ce7bbd7ea30aeaa1727",
              "IPY_MODEL_565bf01ea0cd43a7907cff0ef2e5d00a"
            ],
            "layout": "IPY_MODEL_8d96b16b0ed14db290676873dd250f1c"
          }
        },
        "a00ee6be2a40465b9de10f9720fea485": {
          "model_module": "@jupyter-widgets/controls",
          "model_name": "HTMLModel",
          "model_module_version": "1.5.0",
          "state": {
            "_dom_classes": [],
            "_model_module": "@jupyter-widgets/controls",
            "_model_module_version": "1.5.0",
            "_model_name": "HTMLModel",
            "_view_count": null,
            "_view_module": "@jupyter-widgets/controls",
            "_view_module_version": "1.5.0",
            "_view_name": "HTMLView",
            "description": "",
            "description_tooltip": null,
            "layout": "IPY_MODEL_7b056bb5b5944c65b3138dfc9f2e4130",
            "placeholder": "​",
            "style": "IPY_MODEL_8f4e4f0ea6704717b3e3a6419a81b203",
            "value": "100%"
          }
        },
        "78cb22e614044ce7bbd7ea30aeaa1727": {
          "model_module": "@jupyter-widgets/controls",
          "model_name": "FloatProgressModel",
          "model_module_version": "1.5.0",
          "state": {
            "_dom_classes": [],
            "_model_module": "@jupyter-widgets/controls",
            "_model_module_version": "1.5.0",
            "_model_name": "FloatProgressModel",
            "_view_count": null,
            "_view_module": "@jupyter-widgets/controls",
            "_view_module_version": "1.5.0",
            "_view_name": "ProgressView",
            "bar_style": "success",
            "description": "",
            "description_tooltip": null,
            "layout": "IPY_MODEL_2bb2d1477dd7426280245b9ae629965d",
            "max": 102530333,
            "min": 0,
            "orientation": "horizontal",
            "style": "IPY_MODEL_3032111d345a448891f5ed327f1e8302",
            "value": 102530333
          }
        },
        "565bf01ea0cd43a7907cff0ef2e5d00a": {
          "model_module": "@jupyter-widgets/controls",
          "model_name": "HTMLModel",
          "model_module_version": "1.5.0",
          "state": {
            "_dom_classes": [],
            "_model_module": "@jupyter-widgets/controls",
            "_model_module_version": "1.5.0",
            "_model_name": "HTMLModel",
            "_view_count": null,
            "_view_module": "@jupyter-widgets/controls",
            "_view_module_version": "1.5.0",
            "_view_name": "HTMLView",
            "description": "",
            "description_tooltip": null,
            "layout": "IPY_MODEL_0a45fdd8cb32403e8ecb16a001caa791",
            "placeholder": "​",
            "style": "IPY_MODEL_92eba74ee3324586adbbe877979fdd09",
            "value": " 97.8M/97.8M [00:00&lt;00:00, 127MB/s]"
          }
        },
        "8d96b16b0ed14db290676873dd250f1c": {
          "model_module": "@jupyter-widgets/base",
          "model_name": "LayoutModel",
          "model_module_version": "1.2.0",
          "state": {
            "_model_module": "@jupyter-widgets/base",
            "_model_module_version": "1.2.0",
            "_model_name": "LayoutModel",
            "_view_count": null,
            "_view_module": "@jupyter-widgets/base",
            "_view_module_version": "1.2.0",
            "_view_name": "LayoutView",
            "align_content": null,
            "align_items": null,
            "align_self": null,
            "border": null,
            "bottom": null,
            "display": null,
            "flex": null,
            "flex_flow": null,
            "grid_area": null,
            "grid_auto_columns": null,
            "grid_auto_flow": null,
            "grid_auto_rows": null,
            "grid_column": null,
            "grid_gap": null,
            "grid_row": null,
            "grid_template_areas": null,
            "grid_template_columns": null,
            "grid_template_rows": null,
            "height": null,
            "justify_content": null,
            "justify_items": null,
            "left": null,
            "margin": null,
            "max_height": null,
            "max_width": null,
            "min_height": null,
            "min_width": null,
            "object_fit": null,
            "object_position": null,
            "order": null,
            "overflow": null,
            "overflow_x": null,
            "overflow_y": null,
            "padding": null,
            "right": null,
            "top": null,
            "visibility": null,
            "width": null
          }
        },
        "7b056bb5b5944c65b3138dfc9f2e4130": {
          "model_module": "@jupyter-widgets/base",
          "model_name": "LayoutModel",
          "model_module_version": "1.2.0",
          "state": {
            "_model_module": "@jupyter-widgets/base",
            "_model_module_version": "1.2.0",
            "_model_name": "LayoutModel",
            "_view_count": null,
            "_view_module": "@jupyter-widgets/base",
            "_view_module_version": "1.2.0",
            "_view_name": "LayoutView",
            "align_content": null,
            "align_items": null,
            "align_self": null,
            "border": null,
            "bottom": null,
            "display": null,
            "flex": null,
            "flex_flow": null,
            "grid_area": null,
            "grid_auto_columns": null,
            "grid_auto_flow": null,
            "grid_auto_rows": null,
            "grid_column": null,
            "grid_gap": null,
            "grid_row": null,
            "grid_template_areas": null,
            "grid_template_columns": null,
            "grid_template_rows": null,
            "height": null,
            "justify_content": null,
            "justify_items": null,
            "left": null,
            "margin": null,
            "max_height": null,
            "max_width": null,
            "min_height": null,
            "min_width": null,
            "object_fit": null,
            "object_position": null,
            "order": null,
            "overflow": null,
            "overflow_x": null,
            "overflow_y": null,
            "padding": null,
            "right": null,
            "top": null,
            "visibility": null,
            "width": null
          }
        },
        "8f4e4f0ea6704717b3e3a6419a81b203": {
          "model_module": "@jupyter-widgets/controls",
          "model_name": "DescriptionStyleModel",
          "model_module_version": "1.5.0",
          "state": {
            "_model_module": "@jupyter-widgets/controls",
            "_model_module_version": "1.5.0",
            "_model_name": "DescriptionStyleModel",
            "_view_count": null,
            "_view_module": "@jupyter-widgets/base",
            "_view_module_version": "1.2.0",
            "_view_name": "StyleView",
            "description_width": ""
          }
        },
        "2bb2d1477dd7426280245b9ae629965d": {
          "model_module": "@jupyter-widgets/base",
          "model_name": "LayoutModel",
          "model_module_version": "1.2.0",
          "state": {
            "_model_module": "@jupyter-widgets/base",
            "_model_module_version": "1.2.0",
            "_model_name": "LayoutModel",
            "_view_count": null,
            "_view_module": "@jupyter-widgets/base",
            "_view_module_version": "1.2.0",
            "_view_name": "LayoutView",
            "align_content": null,
            "align_items": null,
            "align_self": null,
            "border": null,
            "bottom": null,
            "display": null,
            "flex": null,
            "flex_flow": null,
            "grid_area": null,
            "grid_auto_columns": null,
            "grid_auto_flow": null,
            "grid_auto_rows": null,
            "grid_column": null,
            "grid_gap": null,
            "grid_row": null,
            "grid_template_areas": null,
            "grid_template_columns": null,
            "grid_template_rows": null,
            "height": null,
            "justify_content": null,
            "justify_items": null,
            "left": null,
            "margin": null,
            "max_height": null,
            "max_width": null,
            "min_height": null,
            "min_width": null,
            "object_fit": null,
            "object_position": null,
            "order": null,
            "overflow": null,
            "overflow_x": null,
            "overflow_y": null,
            "padding": null,
            "right": null,
            "top": null,
            "visibility": null,
            "width": null
          }
        },
        "3032111d345a448891f5ed327f1e8302": {
          "model_module": "@jupyter-widgets/controls",
          "model_name": "ProgressStyleModel",
          "model_module_version": "1.5.0",
          "state": {
            "_model_module": "@jupyter-widgets/controls",
            "_model_module_version": "1.5.0",
            "_model_name": "ProgressStyleModel",
            "_view_count": null,
            "_view_module": "@jupyter-widgets/base",
            "_view_module_version": "1.2.0",
            "_view_name": "StyleView",
            "bar_color": null,
            "description_width": ""
          }
        },
        "0a45fdd8cb32403e8ecb16a001caa791": {
          "model_module": "@jupyter-widgets/base",
          "model_name": "LayoutModel",
          "model_module_version": "1.2.0",
          "state": {
            "_model_module": "@jupyter-widgets/base",
            "_model_module_version": "1.2.0",
            "_model_name": "LayoutModel",
            "_view_count": null,
            "_view_module": "@jupyter-widgets/base",
            "_view_module_version": "1.2.0",
            "_view_name": "LayoutView",
            "align_content": null,
            "align_items": null,
            "align_self": null,
            "border": null,
            "bottom": null,
            "display": null,
            "flex": null,
            "flex_flow": null,
            "grid_area": null,
            "grid_auto_columns": null,
            "grid_auto_flow": null,
            "grid_auto_rows": null,
            "grid_column": null,
            "grid_gap": null,
            "grid_row": null,
            "grid_template_areas": null,
            "grid_template_columns": null,
            "grid_template_rows": null,
            "height": null,
            "justify_content": null,
            "justify_items": null,
            "left": null,
            "margin": null,
            "max_height": null,
            "max_width": null,
            "min_height": null,
            "min_width": null,
            "object_fit": null,
            "object_position": null,
            "order": null,
            "overflow": null,
            "overflow_x": null,
            "overflow_y": null,
            "padding": null,
            "right": null,
            "top": null,
            "visibility": null,
            "width": null
          }
        },
        "92eba74ee3324586adbbe877979fdd09": {
          "model_module": "@jupyter-widgets/controls",
          "model_name": "DescriptionStyleModel",
          "model_module_version": "1.5.0",
          "state": {
            "_model_module": "@jupyter-widgets/controls",
            "_model_module_version": "1.5.0",
            "_model_name": "DescriptionStyleModel",
            "_view_count": null,
            "_view_module": "@jupyter-widgets/base",
            "_view_module_version": "1.2.0",
            "_view_name": "StyleView",
            "description_width": ""
          }
        }
      }
    }
  },
  "nbformat": 4,
  "nbformat_minor": 0
}